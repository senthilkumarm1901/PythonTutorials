{
 "cells": [
  {
   "cell_type": "markdown",
   "id": "eacf6771",
   "metadata": {},
   "source": [
    "### 0. Importing relevant modules"
   ]
  },
  {
   "cell_type": "code",
   "execution_count": 28,
   "id": "235444a5",
   "metadata": {},
   "outputs": [],
   "source": [
    "%matplotlib inline\n",
    "import torch\n",
    "from torch import nn\n",
    "from torch.utils.data import DataLoader\n",
    "from torch.utils.data.sampler import SubsetRandomSampler\n",
    "# torchvision.datasets module contains `Dataset` objects for many real-world vision data\n",
    "from torchvision import datasets # other domain-specific libraries TorchAudio, TorchText\n",
    "from torchvision.transforms import (\n",
    "    ToTensor, # for normalizing the pixel values to the range [0,1]\n",
    "    Lambda, # to make user-defined functions as one of the transformations \n",
    "    Compose # can stitch together transforms\n",
    "    )\n",
    "import matplotlib.pyplot as plt"
   ]
  },
  {
   "cell_type": "code",
   "execution_count": 26,
   "id": "2b323741",
   "metadata": {},
   "outputs": [],
   "source": [
    "import numpy as np"
   ]
  },
  {
   "cell_type": "markdown",
   "id": "afda94ec",
   "metadata": {},
   "source": [
    "### 1A. Converting Data into Model Suitable Iterables "
   ]
  },
  {
   "cell_type": "markdown",
   "id": "d521be1c",
   "metadata": {},
   "source": [
    "- Downloading and transforming the datasets\n",
    "- Preparing train, validation and test datasets"
   ]
  },
  {
   "cell_type": "code",
   "execution_count": null,
   "id": "477738b0",
   "metadata": {},
   "outputs": [],
   "source": [
    "# help(datasets.FashionMNIST)\n",
    "help(datasets.MNIST)"
   ]
  },
  {
   "cell_type": "code",
   "execution_count": 38,
   "id": "c90282a6",
   "metadata": {},
   "outputs": [],
   "source": [
    "# Download training data from open datasets.\n",
    "training_data = datasets.FashionMNIST(\n",
    "    root=\"data\",\n",
    "    train=True,\n",
    "    download=True,\n",
    "    transform=ToTensor(),\n",
    ")\n",
    "\n",
    "# Download test data from open datasets.\n",
    "test_data = datasets.FashionMNIST(\n",
    "    root=\"data\",\n",
    "    train=False,\n",
    "    download=True,\n",
    "    transform=ToTensor(),\n",
    ")"
   ]
  },
  {
   "cell_type": "code",
   "execution_count": 21,
   "id": "8fe9f686",
   "metadata": {},
   "outputs": [
    {
     "name": "stdout",
     "output_type": "stream",
     "text": [
      "tensor([9, 2, 1, 1, 6])\n",
      "5\n"
     ]
    }
   ],
   "source": [
    "print(test_data.test_labels[0:5])\n",
    "print(len(test_data.test_labels[0:5]))"
   ]
  },
  {
   "cell_type": "code",
   "execution_count": 16,
   "id": "ddd46f35",
   "metadata": {},
   "outputs": [
    {
     "data": {
      "text/plain": [
       "{'T-shirt/top': 0,\n",
       " 'Trouser': 1,\n",
       " 'Pullover': 2,\n",
       " 'Dress': 3,\n",
       " 'Coat': 4,\n",
       " 'Sandal': 5,\n",
       " 'Shirt': 6,\n",
       " 'Sneaker': 7,\n",
       " 'Bag': 8,\n",
       " 'Ankle boot': 9}"
      ]
     },
     "execution_count": 16,
     "metadata": {},
     "output_type": "execute_result"
    }
   ],
   "source": [
    "training_data.class_to_idx"
   ]
  },
  {
   "cell_type": "markdown",
   "id": "9db3abaa",
   "metadata": {},
   "source": [
    "```python\n",
    "# If you have a custom dataset in your location\n",
    "\n",
    "class CustomImageDataset(Dataset):\n",
    "    \"\"\"FashionMNIST like Image Dataset Class\"\"\"\n",
    "    def __init__(self, \n",
    "                 annotations_file,\n",
    "                 img_dir,\n",
    "                 transform=None,\n",
    "                 target_transform=None):\n",
    "        \"\"\"\n",
    "        Args:\n",
    "            transform (Optional): dataset will take an optional argument transform \n",
    "                so that any required processing can be applied on the sample\n",
    "        \"\"\"\n",
    "        self.img_labels = pd.read_csv(annotations_file)\n",
    "        self.img_dir = img_dir\n",
    "        self.transform = transform\n",
    "        self.target_transform = target_transform\n",
    "    \n",
    "    def __len__(self):\n",
    "        return len(self.img)\n",
    "    \n",
    "    def __getitem__(self, idx):\n",
    "        # format of data \n",
    "        # image_location, label_type\n",
    "        # tshirt1.jpg, T-shirt/top # class needs to be convered into numerical format\n",
    "        # pant4.jpg, Trouser # class needs to be convered into numerical format\n",
    "        img_path = os.path.join(self.img_dir, self.img_labels.iloc[idx,0])\n",
    "        image = tvio.read_image(img_path)\n",
    "        label = self.img_labels.iloc[idx, 1]\n",
    "        if self.transform:\n",
    "            image = self.transform(image)\n",
    "        if self.target_transform:\n",
    "            label = self.target_transform(label)\n",
    "        sample = {\"image\": image, \"label\": label}\n",
    "        return sample\n",
    "\n",
    "\n",
    "# target_transform\n",
    "# turn the integer y values into a `one_hot_encoded` vector \n",
    "# 1. create a zero tensor of size 10 torch.zeros(10, dtype=torch.float)\n",
    "# 2. `scatter_` assigns a value =1\n",
    "the_target_lambda_function = Lambda(lambda y: torch.zeros(10,\n",
    "                                    dtype=troch.float).scatter_(dim=0,\n",
    "                                                    index=torch.tensor(y), value=1))\n",
    "\n",
    "\n",
    "training_data = CustomImageDataset(\n",
    "    root=\"data\", # the path where the train/test data is stored\n",
    "    train=True, # False if it is a test dataset \n",
    "    download=False, # downloads the data from Web if not available at root\n",
    "    transform=ToTensor(), # transform the features; converts PIL image or numpy array into a FloatTensor and scaled the image's pixel intensity to the range [0,1]\n",
    "    target_transform=the_target_lambda_function\n",
    ")\n",
    "\n",
    "test_data = datasets.FashionMNIST(\n",
    "    root=\"data\",\n",
    "    train=False,\n",
    "    download=False,\n",
    "    transform=ToTensor(),\n",
    "    target_transform=the_target_lambda_function\n",
    "    # target_transform=torch.nn.functional.one_hot(y, num_classes=10) # alternate way\n",
    ")\n",
    "```"
   ]
  },
  {
   "cell_type": "markdown",
   "id": "cdda468f",
   "metadata": {},
   "source": [
    "Preparing Validation Data from Test Data"
   ]
  },
  {
   "cell_type": "code",
   "execution_count": 39,
   "id": "71739123",
   "metadata": {},
   "outputs": [
    {
     "name": "stdout",
     "output_type": "stream",
     "text": [
      "[53982, 49812, 50909, 30514, 9162]\n"
     ]
    }
   ],
   "source": [
    "indices = list(range(len(training_data)))\n",
    "np.random.shuffle(indices)\n",
    "\n",
    "print(indices[0:5])"
   ]
  },
  {
   "cell_type": "code",
   "execution_count": 40,
   "id": "bfb5f2a9",
   "metadata": {},
   "outputs": [],
   "source": [
    "split = int(np.floor(0.2 * len(training_data)))\n",
    "training_data_sample = SubsetRandomSampler(indices[split:])\n",
    "validation_data_sample = SubsetRandomSampler(indices[:split])"
   ]
  },
  {
   "cell_type": "markdown",
   "id": "d6a3a191",
   "metadata": {},
   "source": [
    "Convert into iterables"
   ]
  },
  {
   "cell_type": "code",
   "execution_count": 41,
   "id": "213bf445",
   "metadata": {},
   "outputs": [
    {
     "name": "stdout",
     "output_type": "stream",
     "text": [
      "750\n",
      "188\n",
      "157\n",
      "Shape of Features: torch.Size([64, 1, 28, 28])\n",
      "Shape of Labels: torch.Size([64])\n"
     ]
    }
   ],
   "source": [
    "batchsize = 64\n",
    "\n",
    "# create iterables \n",
    "train_dataloader = DataLoader(training_data, sampler=training_data_sample, batch_size=batchsize)\n",
    "validation_dataloader = DataLoader(training_data, sampler=validation_data_sample, batch_size=batchsize)\n",
    "test_dataloader = DataLoader(test_data, batch_size=batchsize)\n",
    "\n",
    "print(len(train_dataloader))\n",
    "print(len(validation_dataloader))\n",
    "print(len(test_dataloader))\n",
    "\n",
    "# to understand the shape of input features and output\n",
    "for X,y in test_dataloader:\n",
    "    print(\"Shape of Features:\",X.shape)\n",
    "    print(\"Shape of Labels:\",y.shape)\n",
    "    break"
   ]
  },
  {
   "cell_type": "markdown",
   "id": "d099f972",
   "metadata": {},
   "source": [
    "- The above shape of training image is in the format NCHW\n",
    "- batchsize N, no. of channels C, height H, width W"
   ]
  },
  {
   "cell_type": "markdown",
   "id": "1d55890f",
   "metadata": {},
   "source": [
    "### 1B. Visualize sample data"
   ]
  },
  {
   "cell_type": "code",
   "execution_count": 43,
   "id": "e6c6d3af",
   "metadata": {},
   "outputs": [
    {
     "data": {
      "image/png": "[encoded data removed]",
      "text/plain": [
       "<Figure size 1080x360 with 20 Axes>"
      ]
     },
     "metadata": {},
     "output_type": "display_data"
    }
   ],
   "source": [
    "dataiter = iter(train_dataloader)\n",
    "images, labels = dataiter.next()\n",
    "\n",
    "fig = plt.figure(figsize=(15,5))\n",
    "\n",
    "for idx in np.arange(20):\n",
    "    ax = fig.add_subplot(4, int(20/4), idx+1, xticks=[], yticks=[])\n",
    "    ax.imshow(np.squeeze(images[idx]), cmap='gray')\n",
    "    ax.set_title(labels[idx].item())\n",
    "    fig.tight_layout()"
   ]
  },
  {
   "cell_type": "code",
   "execution_count": 47,
   "id": "9223ee44",
   "metadata": {},
   "outputs": [
    {
     "data": {
      "text/plain": [
       "<matplotlib.image.AxesImage at 0x7f606046e8d0>"
      ]
     },
     "execution_count": 47,
     "metadata": {},
     "output_type": "execute_result"
    },
    {
     "data": {
      "image/png": "[encoded data removed]",
      "text/plain": [
       "<Figure size 360x360 with 1 Axes>"
      ]
     },
     "metadata": {
      "needs_background": "light"
     },
     "output_type": "display_data"
    }
   ],
   "source": [
    "# looking into just one image, label\n",
    "\n",
    "figure = plt.figure(figsize=(5,5))\n",
    "img, label = test_data[0]\n",
    "\n",
    "plt.axis(\"off\")\n",
    "plt.imshow(img.squeeze(),cmap=\"gray\")"
   ]
  },
  {
   "cell_type": "markdown",
   "id": "8d44d28b",
   "metadata": {},
   "source": [
    "## 2. Build the Model Layers"
   ]
  },
  {
   "cell_type": "markdown",
   "id": "6a306f6a",
   "metadata": {},
   "source": [
    "Build a NN with **2 hidden layers** and 1 output layer"
   ]
  },
  {
   "cell_type": "code",
   "execution_count": 49,
   "id": "45d0f9e5",
   "metadata": {},
   "outputs": [
    {
     "name": "stdout",
     "output_type": "stream",
     "text": [
      "Using cuda\n"
     ]
    }
   ],
   "source": [
    "device = \"cuda\" if torch.cuda.is_available() else \"cpu\"\n",
    "print(f\"Using {device}\")"
   ]
  },
  {
   "cell_type": "code",
   "execution_count": 50,
   "id": "86a1b935",
   "metadata": {},
   "outputs": [
    {
     "name": "stdout",
     "output_type": "stream",
     "text": [
      "NeuralNetwork(\n",
      "  (flatten): Flatten(start_dim=1, end_dim=-1)\n",
      "  (linear_relu_stack): Sequential(\n",
      "    (0): Linear(in_features=784, out_features=512, bias=True)\n",
      "    (1): ReLU()\n",
      "    (2): Linear(in_features=512, out_features=512, bias=True)\n",
      "    (3): ReLU()\n",
      "    (4): Linear(in_features=512, out_features=10, bias=True)\n",
      "    (5): ReLU()\n",
      "  )\n",
      ")\n"
     ]
    }
   ],
   "source": [
    "# defining the model architecture\n",
    "\n",
    "class NeuralNetwork(nn.Module):\n",
    "    def __init__(self):\n",
    "        # initialize the layers in __init__ constructor\n",
    "        super(NeuralNetwork,self).__init__()\n",
    "        # supercharge your sub-class by inheriting the defaults from Parent class\n",
    "        self.flatten = nn.Flatten()\n",
    "        # one can also use Functional API in PyTorch \n",
    "        # but below codes use Sequential API\n",
    "        # the below stack of layers generates scores or logits\n",
    "        self.linear_relu_stack = nn.Sequential(\n",
    "            # hidden layer 1 consisting of 512 neurons\n",
    "            nn.Linear(28*28, 512),\n",
    "            nn.ReLU(),\n",
    "            # hidden layer 2 consisting of 512 neurons too\n",
    "            nn.Linear(512,512),\n",
    "            nn.ReLU(),\n",
    "            # output layer consisting of 10 neurons \n",
    "            nn.Linear(512,10),\n",
    "            # we can also build a NN without this final layer ReLU\n",
    "            # instead can also run the log_softmax directly\n",
    "            nn.ReLU(), \n",
    "        )\n",
    "        \n",
    "    def forward(self,x): # need to pass the input argument x\n",
    "        # function where the input is run through \n",
    "        # the initialized layers\n",
    "        x = self.flatten(x)\n",
    "        logits = self.linear_relu_stack(x)\n",
    "        return logits\n",
    "    \n",
    "# create a instance of the class NeuralNetwork \n",
    "# move it to the device (CPU or GPU)\n",
    "model = NeuralNetwork().to(device)\n",
    "\n",
    "# print model structure\n",
    "print(model)\n",
    "\n",
    "# is nn.ReLU in the final layer?\n",
    "# https://ai.stackexchange.com/questions/8491/does-it-make-sense-to-apply-softmax-on-top-of-relu"
   ]
  },
  {
   "cell_type": "markdown",
   "id": "c2f31c07",
   "metadata": {},
   "source": [
    "- Why `model(X)` instead of `model.forward(X)`? <br>\n",
    "[Source](https://stackoverflow.com/questions/55338756/why-there-are-different-output-between-model-forwardinput-and-modelinput) "
   ]
  },
  {
   "cell_type": "markdown",
   "id": "3aea1ff2",
   "metadata": {},
   "source": [
    "Dissecting the steps using Functional API"
   ]
  },
  {
   "cell_type": "markdown",
   "id": "6d32e798",
   "metadata": {},
   "source": [
    "- **Step 1**:Convert `28*28` into a contiguous array of 784 pixel values\n",
    "    \n",
    "```python\n",
    "input_image = torch.rand(3, 28, 28)\n",
    "print(input_image.size())\n",
    "# step 1: Flatten the input image\n",
    "flatten = nn.Flatten() # instantitate\n",
    "flat_image = flatten(input_image)  # pass the prev layer (input) into the instance\n",
    "print(flat_image.size())\n",
    "```\n",
    "- **Step 2**: Dense or linear layer in PyTorch `weight * input + bias`\n",
    "    \n",
    "```python    \n",
    "# step 2: apply linear transformation `weight * input + bias`\n",
    "layer1 = nn.Linear(in_features=28*28, out_features=512) # instantiate\n",
    "hidden1 = layer1(flat_image) # pass the prev layer (flattened image) into the instance\n",
    "print(hidden1.size())\n",
    "```\n",
    "\n",
    "- **Step 3**: Apply Relu activation on the linear transformation\n",
    "    \n",
    "```python\n",
    "relu_activation = nn.ReLU() #instantiate\n",
    "hidden1 = relu_activation(hidden1)\n",
    "```    \n",
    "Repeat Step 2 and 3 for `hidden2`: <br>\n",
    "\n",
    "```python\n",
    "layer2 = nn.Linear(in_features=512, out_features=512)\n",
    "hidden2 = layer2(hidden1)\n",
    "hidden2 = relu_activation(hidden2)\n",
    "```    \n",
    "    \n",
    "- **Step 4**: Compute the logits\n",
    "    \n",
    "```python\n",
    "# a simple 1 hidden layer NN with 20 neurons in the hidden layer\n",
    "nn_seq_modules = nn.Sequential(\n",
    "                    flatten,\n",
    "                    layer1,\n",
    "                    relu_activation,\n",
    "                    layer2,\n",
    "                    relu_activation,\n",
    "                    nn.Linear(512, 10), # the output                )\n",
    "input_image = torch.rand(3, 28, 28)\n",
    "logits =  nn_seq_modules(input_image)   \n",
    "```\n",
    "    \n",
    "- **Step 5**: Apply `Softmax` function\n",
    "    \n",
    "```python\n",
    "\n",
    "softmax = nn.Softmax(dim=1)\n",
    "predict_probab = softmax(logits)\n",
    "\n",
    "```\n"
   ]
  },
  {
   "cell_type": "markdown",
   "id": "ba0ab053",
   "metadata": {},
   "source": [
    "### 3. Training the Model \n",
    "Training with training data and evaluating loss on Validation Data"
   ]
  },
  {
   "cell_type": "markdown",
   "id": "cbb4515c",
   "metadata": {},
   "source": [
    "#### 3A.Setting Hyperparameters"
   ]
  },
  {
   "cell_type": "markdown",
   "id": "c5076593",
   "metadata": {},
   "source": [
    "- `num_of_epochs`: The number of times the entire training dataset is pass through the network\n",
    "- `batch_size`: The number of data samples seen by the model before updating its weights. (derived parameter `steps = total_training_data/batch_size` - the number of batches needed to complete an epoch)\n",
    "- `learning_rate`: How much to change the weights in the `w = w - learning_rate * gradient`. Smaller value means the model will take a longer time to find best weights. Larger value of learning_rate might make the NN miss the optimal weights because we might step over the best values\n",
    "- Choice of `loss_fn`\n",
    "Common Loss Functions:    \n",
    "    - nn.MSELoss # Mean Squared Error\n",
    "    - nn.NLLLoss #Negative Log Likelihood    \n",
    "    - nn.CrossEntropyLoss # = combine(`nn.LogSoftmax` and `nn.NLLLoss`)   \n",
    "\n",
    "- Choice of `optimizer`"
   ]
  },
  {
   "cell_type": "code",
   "execution_count": 74,
   "id": "b21c173b",
   "metadata": {},
   "outputs": [],
   "source": [
    "num_of_epochs = 40\n",
    "batchsize = 64 # already mentioned in the DataLoader arguments\n",
    "learning_rate = 1e-3\n",
    "\n",
    "loss_fn = nn.CrossEntropyLoss()\n",
    "optimizer = torch.optim.SGD(model.parameters(),\n",
    "                            lr=learning_rate\n",
    "                           )\n",
    "# SGD optimizer in PyTorch actually is Mini-batch Gradient Descent with momentum\n",
    "# it updates one mini-batch at a time (batchsize)\n",
    "# Source: https://discuss.pytorch.org/t/how-sgd-works-in-pytorch/8060"
   ]
  },
  {
   "cell_type": "markdown",
   "id": "f6293fb3",
   "metadata": {},
   "source": [
    "#### 3B. Writing Core Training and Evaluation Loop Functions"
   ]
  },
  {
   "cell_type": "markdown",
   "id": "777acdd1",
   "metadata": {},
   "source": [
    "- `loss_fn` and `optimizer` are passed to `train_loop` and just `loss_fn` to `test_loop`\n",
    "```python\n",
    "for i in range(epochs):\n",
    "    print(f\"Epoch {i+1}\\n ----------------------------\")\n",
    "    train_loop(train_dataloader, validation_dataloader, model, loss_fn, optimizer)\n",
    "    test_loop(test_dataloader,model, loss_fn)\n",
    "print(\"Over!\")    \n",
    "```"
   ]
  },
  {
   "cell_type": "code",
   "execution_count": 75,
   "id": "db859476",
   "metadata": {},
   "outputs": [],
   "source": [
    "def train_loop(train_dataloader, validation_dataloader, model, loss_fn, optimizer):\n",
    "    train_size = len(train_dataloader.dataset)\n",
    "    validation_size = len(validation_dataloader.dataset)\n",
    "    training_loss_per_epoch = 0\n",
    "    validation_loss_per_epoch = 0\n",
    "    for batch_number, (X,y) in enumerate(train_dataloader):\n",
    "        X,y = X.to(device), y.to(device)\n",
    "        \n",
    "        # compute prediction error\n",
    "        pred = model(X)\n",
    "        loss = loss_fn(pred, y)\n",
    "        \n",
    "        # Backpropagation steps\n",
    "        # key optimizer steps\n",
    "        # by default, gradients add up in PyTorch\n",
    "        # we zero out in every iteration\n",
    "        optimizer.zero_grad() \n",
    "        # performs the gradient computation steps (across the DAG)\n",
    "        loss.backward()\n",
    "        # adjust the weights\n",
    "        optimizer.step()\n",
    "        training_loss_per_epoch += loss.item()\n",
    "        \n",
    "#         if batch_number % 100 == 0:\n",
    "#             print(f\"After completing {batch_number * len(X)} samples, the loss is:\")\n",
    "#             print(loss.item()) \n",
    "            \n",
    "    for batch_number, (X,y) in enumerate(validation_dataloader):\n",
    "        X,y = X.to(device), y.to(device)\n",
    "        \n",
    "        # compute prediction error\n",
    "        pred = model(X)\n",
    "        loss = loss_fn(pred, y)\n",
    "        \n",
    "        validation_loss_per_epoch += loss.item()\n",
    "        \n",
    "    print(f\"Average Training Loss: {training_loss_per_epoch/train_size}\")\n",
    "    print(f\"Average Validation Loss: {validation_loss_per_epoch/validation_size}\")"
   ]
  },
  {
   "cell_type": "code",
   "execution_count": 77,
   "id": "df34b7e4",
   "metadata": {},
   "outputs": [],
   "source": [
    "def test_loop(test_dataloader,model, loss_fn):\n",
    "    test_size = len(test_dataloader.dataset)\n",
    "    # Failing to do eval can yield inconsistent inference results\n",
    "    model.eval()\n",
    "    test_loss_per_epoch, accuracy_per_epoch = 0, 0\n",
    "    # disabling gradient tracking while inference\n",
    "    with torch.no_grad():\n",
    "        for X,y in test_dataloader:\n",
    "            X, y = X.to(device), y.to(device)\n",
    "            pred = model(X)\n",
    "            loss = loss_fn(pred, y)\n",
    "            test_loss_per_epoch += loss.item()\n",
    "            accuracy_per_epoch += (pred.argmax(1)==y).type(torch.float).sum().item()\n",
    "    print(f\"Average Test Loss: {test_loss_per_epoch/test_size}\")\n",
    "    print(f\"Average Accuracy: {accuracy_per_epoch/test_size}\")"
   ]
  },
  {
   "cell_type": "markdown",
   "id": "635cde6e",
   "metadata": {},
   "source": [
    "### 3C. Training the model now with all the above datasets, fns and hyperparameters\n"
   ]
  },
  {
   "cell_type": "code",
   "execution_count": 78,
   "id": "292f70a9",
   "metadata": {},
   "outputs": [
    {
     "name": "stdout",
     "output_type": "stream",
     "text": [
      "Epoch Number: 0 \n",
      "---------------------\n",
      "Average Training Loss: 0.0165973157842954\n",
      "Average Validation Loss: 0.0041493269463380176\n",
      "Average Test Loss: 0.02104052450656891\n",
      "Average Accuracy: 0.5987\n",
      "Epoch Number: 1 \n",
      "---------------------\n",
      "Average Training Loss: 0.01646539914906025\n",
      "Average Validation Loss: 0.004115968574086825\n",
      "Average Test Loss: 0.020881393748521805\n",
      "Average Accuracy: 0.6008\n",
      "Epoch Number: 2 \n",
      "---------------------\n",
      "Average Training Loss: 0.016331461442510287\n",
      "Average Validation Loss: 0.004083967661857605\n",
      "Average Test Loss: 0.020714229398965837\n",
      "Average Accuracy: 0.6027\n",
      "Epoch Number: 3 \n",
      "---------------------\n",
      "Average Training Loss: 0.01620158564547698\n",
      "Average Validation Loss: 0.0040510257869958875\n",
      "Average Test Loss: 0.020553202044963838\n",
      "Average Accuracy: 0.6054\n",
      "Epoch Number: 4 \n",
      "---------------------\n",
      "Average Training Loss: 0.016072398351629574\n",
      "Average Validation Loss: 0.004019714547197024\n",
      "Average Test Loss: 0.020403052824735642\n",
      "Average Accuracy: 0.6061\n",
      "Epoch Number: 5 \n",
      "---------------------\n",
      "Average Training Loss: 0.015945413746436436\n",
      "Average Validation Loss: 0.003987486818432808\n",
      "Average Test Loss: 0.02025271344780922\n",
      "Average Accuracy: 0.6097\n",
      "Epoch Number: 6 \n",
      "---------------------\n",
      "Average Training Loss: 0.01582359046638012\n",
      "Average Validation Loss: 0.00395727019906044\n",
      "Average Test Loss: 0.020095697861909866\n",
      "Average Accuracy: 0.6097\n",
      "Epoch Number: 7 \n",
      "---------------------\n",
      "Average Training Loss: 0.015702851019303004\n",
      "Average Validation Loss: 0.003923773676156998\n",
      "Average Test Loss: 0.019956669914722443\n",
      "Average Accuracy: 0.6104\n",
      "Epoch Number: 8 \n",
      "---------------------\n",
      "Average Training Loss: 0.015588169380029042\n",
      "Average Validation Loss: 0.003902133397261302\n",
      "Average Test Loss: 0.01981723064780235\n",
      "Average Accuracy: 0.6119\n",
      "Epoch Number: 9 \n",
      "---------------------\n",
      "Average Training Loss: 0.015474629897872606\n",
      "Average Validation Loss: 0.0038698764095703763\n",
      "Average Test Loss: 0.019680554032325746\n",
      "Average Accuracy: 0.6145\n",
      "Epoch Number: 10 \n",
      "---------------------\n",
      "Average Training Loss: 0.015368418263395626\n",
      "Average Validation Loss: 0.00384338068763415\n",
      "Average Test Loss: 0.019557993483543396\n",
      "Average Accuracy: 0.6142\n",
      "Epoch Number: 11 \n",
      "---------------------\n",
      "Average Training Loss: 0.015265745504697163\n",
      "Average Validation Loss: 0.0038161093264818193\n",
      "Average Test Loss: 0.019432796931266785\n",
      "Average Accuracy: 0.6178\n",
      "Epoch Number: 12 \n",
      "---------------------\n",
      "Average Training Loss: 0.015166544103622436\n",
      "Average Validation Loss: 0.0037988998274008433\n",
      "Average Test Loss: 0.019325717377662657\n",
      "Average Accuracy: 0.6169\n",
      "Epoch Number: 13 \n",
      "---------------------\n",
      "Average Training Loss: 0.015072440969944\n",
      "Average Validation Loss: 0.00377063982685407\n",
      "Average Test Loss: 0.019211713725328445\n",
      "Average Accuracy: 0.6166\n",
      "Epoch Number: 14 \n",
      "---------------------\n",
      "Average Training Loss: 0.014984981700778008\n",
      "Average Validation Loss: 0.003747881418466568\n",
      "Average Test Loss: 0.01909425981640816\n",
      "Average Accuracy: 0.6208\n",
      "Epoch Number: 15 \n",
      "---------------------\n",
      "Average Training Loss: 0.014898901596665383\n",
      "Average Validation Loss: 0.003727279196182887\n",
      "Average Test Loss: 0.019000117540359497\n",
      "Average Accuracy: 0.6196\n",
      "Epoch Number: 16 \n",
      "---------------------\n",
      "Average Training Loss: 0.01481785164574782\n",
      "Average Validation Loss: 0.003705853765209516\n",
      "Average Test Loss: 0.018898342591524123\n",
      "Average Accuracy: 0.6214\n",
      "Epoch Number: 17 \n",
      "---------------------\n",
      "Average Training Loss: 0.014742126165827115\n",
      "Average Validation Loss: 0.0036900951832532884\n",
      "Average Test Loss: 0.01881283653974533\n",
      "Average Accuracy: 0.6231\n",
      "Epoch Number: 18 \n",
      "---------------------\n",
      "Average Training Loss: 0.014669410229722658\n",
      "Average Validation Loss: 0.003669665465752284\n",
      "Average Test Loss: 0.01872104372382164\n",
      "Average Accuracy: 0.624\n",
      "Epoch Number: 19 \n",
      "---------------------\n",
      "Average Training Loss: 0.014601055999596914\n",
      "Average Validation Loss: 0.0036545446942249935\n",
      "Average Test Loss: 0.018650766909122467\n",
      "Average Accuracy: 0.6239\n",
      "Epoch Number: 20 \n",
      "---------------------\n",
      "Average Training Loss: 0.014534291805823643\n",
      "Average Validation Loss: 0.003641401247183482\n",
      "Average Test Loss: 0.0185795102417469\n",
      "Average Accuracy: 0.6259\n",
      "Epoch Number: 21 \n",
      "---------------------\n",
      "Average Training Loss: 0.014475692731142045\n",
      "Average Validation Loss: 0.0036288454910119376\n",
      "Average Test Loss: 0.01851541577577591\n",
      "Average Accuracy: 0.6234\n",
      "Epoch Number: 22 \n",
      "---------------------\n",
      "Average Training Loss: 0.014416651957233746\n",
      "Average Validation Loss: 0.0036096730212370554\n",
      "Average Test Loss: 0.01842883067727089\n",
      "Average Accuracy: 0.6281\n",
      "Epoch Number: 23 \n",
      "---------------------\n",
      "Average Training Loss: 0.01436344808836778\n",
      "Average Validation Loss: 0.003595548105239868\n",
      "Average Test Loss: 0.018355442035198212\n",
      "Average Accuracy: 0.6287\n",
      "Epoch Number: 24 \n",
      "---------------------\n",
      "Average Training Loss: 0.01431034513215224\n",
      "Average Validation Loss: 0.003583349136511485\n",
      "Average Test Loss: 0.018299797093868257\n",
      "Average Accuracy: 0.6289\n",
      "Epoch Number: 25 \n",
      "---------------------\n",
      "Average Training Loss: 0.014262819745143254\n",
      "Average Validation Loss: 0.003566974763075511\n",
      "Average Test Loss: 0.01823752524256706\n",
      "Average Accuracy: 0.6301\n",
      "Epoch Number: 26 \n",
      "---------------------\n",
      "Average Training Loss: 0.014215331003069877\n",
      "Average Validation Loss: 0.003556817201773326\n",
      "Average Test Loss: 0.018183221119642257\n",
      "Average Accuracy: 0.6324\n",
      "Epoch Number: 27 \n",
      "---------------------\n",
      "Average Training Loss: 0.014170039909084638\n",
      "Average Validation Loss: 0.003546018492182096\n",
      "Average Test Loss: 0.018130023699998856\n",
      "Average Accuracy: 0.6335\n",
      "Epoch Number: 28 \n",
      "---------------------\n",
      "Average Training Loss: 0.014129603790243467\n",
      "Average Validation Loss: 0.0035358248035113017\n",
      "Average Test Loss: 0.01808255869150162\n",
      "Average Accuracy: 0.6345\n",
      "Epoch Number: 29 \n",
      "---------------------\n",
      "Average Training Loss: 0.014090410886208216\n",
      "Average Validation Loss: 0.0035252811580896376\n",
      "Average Test Loss: 0.01804421318769455\n",
      "Average Accuracy: 0.6326\n",
      "Epoch Number: 30 \n",
      "---------------------\n",
      "Average Training Loss: 0.014052130847175916\n",
      "Average Validation Loss: 0.003517890539765358\n",
      "Average Test Loss: 0.017995516246557236\n",
      "Average Accuracy: 0.6353\n",
      "Epoch Number: 31 \n",
      "---------------------\n",
      "Average Training Loss: 0.014017595194776853\n",
      "Average Validation Loss: 0.003510393084088961\n",
      "Average Test Loss: 0.0179584357380867\n",
      "Average Accuracy: 0.6338\n",
      "Epoch Number: 32 \n",
      "---------------------\n",
      "Average Training Loss: 0.013984520994623502\n",
      "Average Validation Loss: 0.0035033451894919076\n",
      "Average Test Loss: 0.017932059836387633\n",
      "Average Accuracy: 0.6345\n",
      "Epoch Number: 33 \n",
      "---------------------\n",
      "Average Training Loss: 0.013952179549137751\n",
      "Average Validation Loss: 0.0034945634444554646\n",
      "Average Test Loss: 0.017873805236816406\n",
      "Average Accuracy: 0.6382\n",
      "Epoch Number: 34 \n",
      "---------------------\n",
      "Average Training Loss: 0.01392053046822548\n",
      "Average Validation Loss: 0.0034870006114244463\n",
      "Average Test Loss: 0.017841022336483003\n",
      "Average Accuracy: 0.6383\n",
      "Epoch Number: 35 \n",
      "---------------------\n",
      "Average Training Loss: 0.01389291929602623\n",
      "Average Validation Loss: 0.003481985992193222\n",
      "Average Test Loss: 0.017806241101026535\n",
      "Average Accuracy: 0.6383\n",
      "Epoch Number: 36 \n",
      "---------------------\n",
      "Average Training Loss: 0.013864665474494298\n",
      "Average Validation Loss: 0.003471617105603218\n",
      "Average Test Loss: 0.01777653574347496\n",
      "Average Accuracy: 0.6421\n",
      "Epoch Number: 37 \n",
      "---------------------\n",
      "Average Training Loss: 0.013839271143078804\n",
      "Average Validation Loss: 0.0034667091131210326\n",
      "Average Test Loss: 0.01774827647805214\n",
      "Average Accuracy: 0.6397\n",
      "Epoch Number: 38 \n",
      "---------------------\n",
      "Average Training Loss: 0.013812993294994037\n",
      "Average Validation Loss: 0.0034634614417950313\n",
      "Average Test Loss: 0.01774194681048393\n",
      "Average Accuracy: 0.638\n",
      "Epoch Number: 39 \n",
      "---------------------\n",
      "Average Training Loss: 0.013788932141661644\n",
      "Average Validation Loss: 0.0034548886428276697\n",
      "Average Test Loss: 0.017693410968780517\n",
      "Average Accuracy: 0.6434\n",
      "CPU times: user 4min 2s, sys: 486 ms, total: 4min 3s\n",
      "Wall time: 3min 36s\n"
     ]
    }
   ],
   "source": [
    "%%time\n",
    "for epoch in range(num_of_epochs):\n",
    "    print(f\"Epoch Number: {epoch} \\n---------------------\")\n",
    "    train_loop(train_dataloader, validation_dataloader, model, loss_fn, optimizer)\n",
    "    test_loop(test_dataloader,model, loss_fn)"
   ]
  },
  {
   "cell_type": "markdown",
   "id": "99f52533",
   "metadata": {},
   "source": [
    "Points to ponder: \n",
    "- The accuracy for this 2-layer NN stands at 64%. \n",
    "- Probably deepening the number of hidden layers can help in improving the accuracy or changing the architecture to use CNN or any pre-trained NN will improve further"
   ]
  },
  {
   "cell_type": "markdown",
   "id": "c9380211",
   "metadata": {},
   "source": [
    "### 3D. Saving the model"
   ]
  },
  {
   "cell_type": "code",
   "execution_count": 79,
   "id": "ac9667e3",
   "metadata": {},
   "outputs": [
    {
     "name": "stdout",
     "output_type": "stream",
     "text": [
      "/bin/bash: warning: setlocale: LC_ALL: cannot change locale (en_US.utf-8)\r\n"
     ]
    }
   ],
   "source": [
    "!mkdir -p model_weights/"
   ]
  },
  {
   "cell_type": "code",
   "execution_count": 80,
   "id": "0e95a43e",
   "metadata": {},
   "outputs": [],
   "source": [
    "torch.save(model.state_dict(),\"model_weights/fmnist_2_layer_nn_model.pth\")"
   ]
  },
  {
   "cell_type": "markdown",
   "id": "5968e840",
   "metadata": {},
   "source": [
    "### 4. Predict using the Trained Model\n",
    "Loading the trained model and predicting for unseen data"
   ]
  },
  {
   "cell_type": "code",
   "execution_count": 81,
   "id": "196f3547",
   "metadata": {},
   "outputs": [
    {
     "name": "stdout",
     "output_type": "stream",
     "text": [
      "Predicted: \"Ankle boot\", Actual: \"Ankle boot\"\n"
     ]
    }
   ],
   "source": [
    "# construct the model structure\n",
    "model = NeuralNetwork()\n",
    "# load the state_dict\n",
    "model.load_state_dict(torch.load(\"model_weights/fmnist_2_layer_nn_model.pth\"))\n",
    "\n",
    "classes = [\n",
    "    \"T-shirt/top\",\n",
    "    \"Trouser\",\n",
    "    \"Pullover\",\n",
    "    \"Dress\",\n",
    "    \"Coat\",\n",
    "    \"Sandal\",\n",
    "    \"Shirt\",\n",
    "    \"Sneaker\",\n",
    "    \"Bag\",\n",
    "    \"Ankle boot\",\n",
    "]\n",
    "\n",
    "model.eval()\n",
    "x, y = test_data[0][0], test_data[0][1]\n",
    "with torch.no_grad():\n",
    "    pred = model(x)\n",
    "    predicted, actual = classes[pred[0].argmax(0)], classes[y]\n",
    "    print(f'Predicted: \"{predicted}\", Actual: \"{actual}\"')"
   ]
  },
  {
   "cell_type": "markdown",
   "id": "95ca9475",
   "metadata": {},
   "source": [
    "TODO"
   ]
  },
  {
   "cell_type": "markdown",
   "id": "cd16a4d0",
   "metadata": {},
   "source": [
    "### 5. Visualize the Model Training\n",
    "- How to visualize the training in Tensorboard"
   ]
  },
  {
   "cell_type": "markdown",
   "id": "660ead21",
   "metadata": {},
   "source": [
    "Sources: <br>\n",
    "- MSFT PyTorch Course | [link](https://docs.microsoft.com/en-us/learn/modules/intro-machine-learning-pytorch/8-quickstart)\n",
    "- PyTorch Official Tutorial Explaining with FashionMNIST data | [link](https://pytorch.org/tutorials/beginner/introyt/tensorboardyt_tutorial.html)\n",
    "- A useful Medium article on FashionMNIST dataset | [link](https://medium.com/@aaysbt/fashion-mnist-data-training-using-pytorch-7f6ad71e96f4)"
   ]
  }
 ],
 "metadata": {
  "kernelspec": {
   "display_name": "Python 3 (ipykernel)",
   "language": "python",
   "name": "python3"
  },
  "language_info": {
   "codemirror_mode": {
    "name": "ipython",
    "version": 3
   },
   "file_extension": ".py",
   "mimetype": "text/x-python",
   "name": "python",
   "nbconvert_exporter": "python",
   "pygments_lexer": "ipython3",
   "version": "3.7.10"
  }
 },
 "nbformat": 4,
 "nbformat_minor": 5
}
