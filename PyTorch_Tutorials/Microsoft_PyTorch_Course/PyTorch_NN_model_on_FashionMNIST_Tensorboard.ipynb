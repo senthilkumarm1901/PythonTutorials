{
 "cells": [
  {
   "cell_type": "markdown",
   "id": "586e9a4d",
   "metadata": {},
   "source": [
    "### 0. Importing relevant modules"
   ]
  },
  {
   "cell_type": "code",
   "execution_count": 15,
   "id": "87f786b5",
   "metadata": {},
   "outputs": [],
   "source": [
    "%matplotlib inline\n",
    "import torch\n",
    "import torchvision\n",
    "from torch import nn\n",
    "from torch.utils.data import DataLoader\n",
    "from torch.utils.data.sampler import SubsetRandomSampler\n",
    "# torchvision.datasets module contains `Dataset` objects for many real-world vision data\n",
    "from torchvision import datasets # other domain-specific libraries TorchAudio, TorchText\n",
    "from torchvision.transforms import (\n",
    "    ToTensor, # for normalizing the pixel values to the range [0,1]\n",
    "    Lambda, # to make user-defined functions as one of the transformations \n",
    "    )\n",
    "import matplotlib.pyplot as plt\n",
    "from torch.utils.tensorboard import SummaryWriter"
   ]
  },
  {
   "cell_type": "code",
   "execution_count": 2,
   "id": "9c765931",
   "metadata": {},
   "outputs": [],
   "source": [
    "import numpy as np"
   ]
  },
  {
   "cell_type": "markdown",
   "id": "5a7491df",
   "metadata": {},
   "source": [
    "### 1A. Converting Data into Model Suitable Iterables "
   ]
  },
  {
   "cell_type": "markdown",
   "id": "9334eee2",
   "metadata": {},
   "source": [
    "- Downloading and transforming the datasets\n",
    "- Preparing train, validation and test datasets"
   ]
  },
  {
   "cell_type": "code",
   "execution_count": null,
   "id": "446e1cb9",
   "metadata": {},
   "outputs": [],
   "source": [
    "# help(datasets.FashionMNIST)\n",
    "help(datasets.MNIST)"
   ]
  },
  {
   "cell_type": "code",
   "execution_count": 3,
   "id": "45bf6b17",
   "metadata": {},
   "outputs": [
    {
     "name": "stderr",
     "output_type": "stream",
     "text": [
      "/opt/conda/lib/python3.7/site-packages/torchvision/datasets/mnist.py:498: UserWarning: The given NumPy array is not writeable, and PyTorch does not support non-writeable tensors. This means you can write to the underlying (supposedly non-writeable) NumPy array using the tensor. You may want to copy the array to protect its data or make it writeable before converting it to a tensor. This type of warning will be suppressed for the rest of this program. (Triggered internally at  /opt/conda/conda-bld/pytorch_1623448265233/work/torch/csrc/utils/tensor_numpy.cpp:180.)\n",
      "  return torch.from_numpy(parsed.astype(m[2], copy=False)).view(*s)\n"
     ]
    }
   ],
   "source": [
    "# Download training data from open datasets.\n",
    "training_data = datasets.FashionMNIST(\n",
    "    root=\"data\",\n",
    "    train=True,\n",
    "    download=True,\n",
    "    transform=ToTensor(),\n",
    ")\n",
    "\n",
    "# Download test data from open datasets.\n",
    "test_data = datasets.FashionMNIST(\n",
    "    root=\"data\",\n",
    "    train=False,\n",
    "    download=True,\n",
    "    transform=ToTensor(),\n",
    ")"
   ]
  },
  {
   "cell_type": "code",
   "execution_count": 5,
   "id": "4da763d7",
   "metadata": {},
   "outputs": [
    {
     "name": "stdout",
     "output_type": "stream",
     "text": [
      "tensor([9, 2, 1, 1, 6])\n"
     ]
    }
   ],
   "source": [
    "print(test_data.test_labels[0:5])"
   ]
  },
  {
   "cell_type": "code",
   "execution_count": 6,
   "id": "64b84026",
   "metadata": {},
   "outputs": [
    {
     "data": {
      "text/plain": [
       "{'T-shirt/top': 0,\n",
       " 'Trouser': 1,\n",
       " 'Pullover': 2,\n",
       " 'Dress': 3,\n",
       " 'Coat': 4,\n",
       " 'Sandal': 5,\n",
       " 'Shirt': 6,\n",
       " 'Sneaker': 7,\n",
       " 'Bag': 8,\n",
       " 'Ankle boot': 9}"
      ]
     },
     "execution_count": 6,
     "metadata": {},
     "output_type": "execute_result"
    }
   ],
   "source": [
    "training_data.class_to_idx"
   ]
  },
  {
   "cell_type": "markdown",
   "id": "b43801e1",
   "metadata": {},
   "source": [
    "```python\n",
    "# If you have a custom dataset in your location\n",
    "\n",
    "class CustomImageDataset(Dataset):\n",
    "    \"\"\"FashionMNIST like Image Dataset Class\"\"\"\n",
    "    def __init__(self, \n",
    "                 annotations_file,\n",
    "                 img_dir,\n",
    "                 transform=None,\n",
    "                 target_transform=None):\n",
    "        \"\"\"\n",
    "        Args:\n",
    "            transform (Optional): dataset will take an optional argument transform \n",
    "                so that any required processing can be applied on the sample\n",
    "        \"\"\"\n",
    "        self.img_labels = pd.read_csv(annotations_file)\n",
    "        self.img_dir = img_dir\n",
    "        self.transform = transform\n",
    "        self.target_transform = target_transform\n",
    "    \n",
    "    def __len__(self):\n",
    "        return len(self.img)\n",
    "    \n",
    "    def __getitem__(self, idx):\n",
    "        # format of data \n",
    "        # image_location, label_type\n",
    "        # tshirt1.jpg, T-shirt/top # class needs to be convered into numerical format\n",
    "        # pant4.jpg, Trouser # class needs to be convered into numerical format\n",
    "        img_path = os.path.join(self.img_dir, self.img_labels.iloc[idx,0])\n",
    "        image = tvio.read_image(img_path)\n",
    "        label = self.img_labels.iloc[idx, 1]\n",
    "        if self.transform:\n",
    "            image = self.transform(image)\n",
    "        if self.target_transform:\n",
    "            label = self.target_transform(label)\n",
    "        sample = {\"image\": image, \"label\": label}\n",
    "        return sample\n",
    "\n",
    "\n",
    "# target_transform\n",
    "# turn the integer y values into a `one_hot_encoded` vector \n",
    "# 1. create a zero tensor of size 10 torch.zeros(10, dtype=torch.float)\n",
    "# 2. `scatter_` assigns a value =1\n",
    "the_target_lambda_function = Lambda(lambda y: torch.zeros(10,\n",
    "                                    dtype=troch.float).scatter_(dim=0,\n",
    "                                                    index=torch.tensor(y), value=1))\n",
    "\n",
    "\n",
    "training_data = CustomImageDataset(\n",
    "    root=\"data\", # the path where the train/test data is stored\n",
    "    train=True, # False if it is a test dataset \n",
    "    download=False, # downloads the data from Web if not available at root\n",
    "    transform=ToTensor(), # transform the features; converts PIL image or numpy array into a FloatTensor and scaled the image's pixel intensity to the range [0,1]\n",
    "    target_transform=the_target_lambda_function\n",
    ")\n",
    "\n",
    "test_data = datasets.FashionMNIST(\n",
    "    root=\"data\",\n",
    "    train=False,\n",
    "    download=False,\n",
    "    transform=ToTensor(),\n",
    "    target_transform=the_target_lambda_function\n",
    "    # target_transform=torch.nn.functional.one_hot(y, num_classes=10) # alternate way\n",
    ")\n",
    "```"
   ]
  },
  {
   "cell_type": "markdown",
   "id": "9fc6794e",
   "metadata": {},
   "source": [
    "Preparing Validation Data from Test Data"
   ]
  },
  {
   "cell_type": "code",
   "execution_count": 7,
   "id": "e5983671",
   "metadata": {},
   "outputs": [
    {
     "name": "stdout",
     "output_type": "stream",
     "text": [
      "[7400, 11594, 9947, 24051, 56426]\n"
     ]
    }
   ],
   "source": [
    "indices = list(range(len(training_data)))\n",
    "np.random.shuffle(indices)\n",
    "\n",
    "print(indices[0:5])"
   ]
  },
  {
   "cell_type": "code",
   "execution_count": 8,
   "id": "0d919334",
   "metadata": {},
   "outputs": [],
   "source": [
    "split = int(np.floor(0.2 * len(training_data)))\n",
    "training_data_sample = SubsetRandomSampler(indices[split:])\n",
    "validation_data_sample = SubsetRandomSampler(indices[:split])"
   ]
  },
  {
   "cell_type": "markdown",
   "id": "d64a83dd",
   "metadata": {},
   "source": [
    "Convert into iterables"
   ]
  },
  {
   "cell_type": "code",
   "execution_count": 17,
   "id": "4f98fe92",
   "metadata": {},
   "outputs": [
    {
     "name": "stdout",
     "output_type": "stream",
     "text": [
      "12000\n",
      "3000\n",
      "2500\n",
      "Shape of Features: torch.Size([4, 1, 28, 28])\n",
      "Shape of Labels: torch.Size([4])\n"
     ]
    }
   ],
   "source": [
    "batchsize = 4\n",
    "\n",
    "# create iterables \n",
    "train_dataloader = DataLoader(training_data, sampler=training_data_sample, batch_size=batchsize)\n",
    "validation_dataloader = DataLoader(training_data, sampler=validation_data_sample, batch_size=batchsize)\n",
    "test_dataloader = DataLoader(test_data, batch_size=batchsize)\n",
    "\n",
    "print(len(train_dataloader))\n",
    "print(len(validation_dataloader))\n",
    "print(len(test_dataloader))\n",
    "\n",
    "# to understand the shape of input features and output\n",
    "for X,y in test_dataloader:\n",
    "    print(\"Shape of Features:\",X.shape)\n",
    "    print(\"Shape of Labels:\",y.shape)\n",
    "    break"
   ]
  },
  {
   "cell_type": "code",
   "execution_count": 18,
   "id": "014bdd54",
   "metadata": {},
   "outputs": [
    {
     "data": {
      "text/plain": [
       "12000"
      ]
     },
     "execution_count": 18,
     "metadata": {},
     "output_type": "execute_result"
    }
   ],
   "source": [
    "len(train_dataloader)"
   ]
  },
  {
   "cell_type": "markdown",
   "id": "72fb18fe",
   "metadata": {},
   "source": [
    "- The above shape of training image is in the format NCHW\n",
    "- batchsize N, no. of channels C, height H, width W"
   ]
  },
  {
   "cell_type": "markdown",
   "id": "60aab2d7",
   "metadata": {},
   "source": [
    "### 1B. Visualize sample data"
   ]
  },
  {
   "cell_type": "code",
   "execution_count": 23,
   "id": "b68d315a",
   "metadata": {},
   "outputs": [
    {
     "data": {
      "image/png": "[encoded data removed]",
      "text/plain": [
       "<Figure size 360x360 with 4 Axes>"
      ]
     },
     "metadata": {},
     "output_type": "display_data"
    }
   ],
   "source": [
    "dataiter = iter(train_dataloader)\n",
    "images, labels = dataiter.next()\n",
    "\n",
    "fig = plt.figure(figsize=(5,5))\n",
    "\n",
    "for idx in np.arange(4):\n",
    "    ax = fig.add_subplot(1, 4, idx+1, xticks=[], yticks=[])\n",
    "    ax.imshow(np.squeeze(images[idx]), cmap='gray')\n",
    "    ax.set_title(labels[idx].item())\n",
    "    fig.tight_layout()"
   ]
  },
  {
   "cell_type": "code",
   "execution_count": 24,
   "id": "0dac265e",
   "metadata": {},
   "outputs": [
    {
     "data": {
      "text/plain": [
       "<matplotlib.image.AxesImage at 0x7f38e81aedd0>"
      ]
     },
     "execution_count": 24,
     "metadata": {},
     "output_type": "execute_result"
    },
    {
     "data": {
      "image/png": "[encoded data removed]",
      "text/plain": [
       "<Figure size 360x360 with 1 Axes>"
      ]
     },
     "metadata": {
      "needs_background": "light"
     },
     "output_type": "display_data"
    }
   ],
   "source": [
    "# looking into just one image, label\n",
    "\n",
    "figure = plt.figure(figsize=(5,5))\n",
    "img, label = test_data[0]\n",
    "\n",
    "plt.axis(\"off\")\n",
    "plt.imshow(img.squeeze(),cmap=\"gray\")"
   ]
  },
  {
   "cell_type": "code",
   "execution_count": 25,
   "id": "908dd43b",
   "metadata": {},
   "outputs": [
    {
     "data": {
      "image/png": "[encoded data removed]",
      "text/plain": [
       "<Figure size 432x288 with 1 Axes>"
      ]
     },
     "metadata": {
      "needs_background": "light"
     },
     "output_type": "display_data"
    }
   ],
   "source": [
    "# Helper function for inline image display\n",
    "def matplotlib_imshow(img, one_channel=False):\n",
    "    if one_channel:\n",
    "        img = img.mean(dim=0)\n",
    "    img = img / 2 + 0.5     # unnormalize\n",
    "    npimg = img.numpy()\n",
    "    if one_channel:\n",
    "        plt.imshow(npimg, cmap=\"Greys\")\n",
    "    else:\n",
    "        plt.imshow(np.transpose(npimg, (1, 2, 0)))\n",
    "        \n",
    "dataiter = iter(train_dataloader)\n",
    "images, labels = dataiter.next()\n",
    "\n",
    "# Create a grid from the images and show them\n",
    "img_grid = torchvision.utils.make_grid(images)\n",
    "matplotlib_imshow(img_grid, one_channel=True)"
   ]
  },
  {
   "cell_type": "markdown",
   "id": "8b26c063",
   "metadata": {},
   "source": [
    "### 1C. Initiating the Tensorboard Logs and Visualizing Sample Images"
   ]
  },
  {
   "cell_type": "code",
   "execution_count": 27,
   "id": "45c68c97",
   "metadata": {},
   "outputs": [],
   "source": [
    "# specifying the log directory\n",
    "writer = SummaryWriter('runs/fashion_mnist_2_layer_NN_experiment_1')\n",
    "\n",
    "# writing the grid of 4 images to Tensorboard log dir\n",
    "writer.add_image('Four Sample Fashion-MNIST Images', img_grid)\n",
    "writer.flush()"
   ]
  },
  {
   "cell_type": "markdown",
   "id": "bc6b4b2d",
   "metadata": {},
   "source": [
    "## 2. Build the Model Layers"
   ]
  },
  {
   "cell_type": "markdown",
   "id": "98d401a2",
   "metadata": {},
   "source": [
    "Build a NN with **2 hidden layers** and 1 output layer"
   ]
  },
  {
   "cell_type": "code",
   "execution_count": 28,
   "id": "7bf41165",
   "metadata": {},
   "outputs": [
    {
     "name": "stdout",
     "output_type": "stream",
     "text": [
      "Using cuda\n"
     ]
    }
   ],
   "source": [
    "device = \"cuda\" if torch.cuda.is_available() else \"cpu\"\n",
    "print(f\"Using {device}\")"
   ]
  },
  {
   "cell_type": "code",
   "execution_count": 29,
   "id": "076ac7a1",
   "metadata": {},
   "outputs": [
    {
     "name": "stdout",
     "output_type": "stream",
     "text": [
      "NeuralNetwork(\n",
      "  (flatten): Flatten(start_dim=1, end_dim=-1)\n",
      "  (linear_relu_stack): Sequential(\n",
      "    (0): Linear(in_features=784, out_features=512, bias=True)\n",
      "    (1): ReLU()\n",
      "    (2): Linear(in_features=512, out_features=512, bias=True)\n",
      "    (3): ReLU()\n",
      "    (4): Linear(in_features=512, out_features=10, bias=True)\n",
      "    (5): ReLU()\n",
      "  )\n",
      ")\n"
     ]
    }
   ],
   "source": [
    "# defining the model architecture\n",
    "\n",
    "class NeuralNetwork(nn.Module):\n",
    "    def __init__(self):\n",
    "        # initialize the layers in __init__ constructor\n",
    "        super(NeuralNetwork,self).__init__()\n",
    "        # supercharge your sub-class by inheriting the defaults from Parent class\n",
    "        self.flatten = nn.Flatten()\n",
    "        # one can also use Functional API in PyTorch \n",
    "        # but below codes use Sequential API\n",
    "        # the below stack of layers generates scores or logits\n",
    "        self.linear_relu_stack = nn.Sequential(\n",
    "            # hidden layer 1 consisting of 512 neurons\n",
    "            nn.Linear(28*28, 512),\n",
    "            nn.ReLU(),\n",
    "            # hidden layer 2 consisting of 512 neurons too\n",
    "            nn.Linear(512,512),\n",
    "            nn.ReLU(),\n",
    "            # output layer consisting of 10 neurons \n",
    "            nn.Linear(512,10),\n",
    "            # we can also build a NN without this final layer ReLU\n",
    "            # instead can also run the log_softmax directly\n",
    "            nn.ReLU(), \n",
    "        )\n",
    "        \n",
    "    def forward(self,x): # need to pass the input argument x\n",
    "        # function where the input is run through \n",
    "        # the initialized layers\n",
    "        x = self.flatten(x)\n",
    "        logits = self.linear_relu_stack(x)\n",
    "        return logits\n",
    "    \n",
    "# create a instance of the class NeuralNetwork \n",
    "# move it to the device (CPU or GPU)\n",
    "model = NeuralNetwork().to(device)\n",
    "\n",
    "# print model structure\n",
    "print(model)\n",
    "\n",
    "# is nn.ReLU in the final layer?\n",
    "# https://ai.stackexchange.com/questions/8491/does-it-make-sense-to-apply-softmax-on-top-of-relu"
   ]
  },
  {
   "cell_type": "markdown",
   "id": "61c056ac",
   "metadata": {},
   "source": [
    "- Why `model(X)` instead of `model.forward(X)`? <br>\n",
    "[Source](https://stackoverflow.com/questions/55338756/why-there-are-different-output-between-model-forwardinput-and-modelinput) "
   ]
  },
  {
   "cell_type": "markdown",
   "id": "d6274519",
   "metadata": {},
   "source": [
    "Dissecting the steps using Functional API"
   ]
  },
  {
   "cell_type": "markdown",
   "id": "05c5adc5",
   "metadata": {},
   "source": [
    "- **Step 1**:Convert `28*28` into a contiguous array of 784 pixel values\n",
    "    \n",
    "```python\n",
    "input_image = torch.rand(3, 28, 28)\n",
    "print(input_image.size())\n",
    "# step 1: Flatten the input image\n",
    "flatten = nn.Flatten() # instantitate\n",
    "flat_image = flatten(input_image)  # pass the prev layer (input) into the instance\n",
    "print(flat_image.size())\n",
    "```\n",
    "- **Step 2**: Dense or linear layer in PyTorch `weight * input + bias`\n",
    "    \n",
    "```python    \n",
    "# step 2: apply linear transformation `weight * input + bias`\n",
    "layer1 = nn.Linear(in_features=28*28, out_features=512) # instantiate\n",
    "hidden1 = layer1(flat_image) # pass the prev layer (flattened image) into the instance\n",
    "print(hidden1.size())\n",
    "```\n",
    "\n",
    "- **Step 3**: Apply Relu activation on the linear transformation\n",
    "    \n",
    "```python\n",
    "relu_activation = nn.ReLU() #instantiate\n",
    "hidden1 = relu_activation(hidden1)\n",
    "```    \n",
    "Repeat Step 2 and 3 for `hidden2`: <br>\n",
    "\n",
    "```python\n",
    "layer2 = nn.Linear(in_features=512, out_features=512)\n",
    "hidden2 = layer2(hidden1)\n",
    "hidden2 = relu_activation(hidden2)\n",
    "```    \n",
    "    \n",
    "- **Step 4**: Compute the logits\n",
    "    \n",
    "```python\n",
    "# a simple 1 hidden layer NN with 20 neurons in the hidden layer\n",
    "nn_seq_modules = nn.Sequential(\n",
    "                    flatten,\n",
    "                    layer1,\n",
    "                    relu_activation,\n",
    "                    layer2,\n",
    "                    relu_activation,\n",
    "                    nn.Linear(512, 10), # the output                )\n",
    "input_image = torch.rand(3, 28, 28)\n",
    "logits =  nn_seq_modules(input_image)   \n",
    "```\n",
    "    \n",
    "- **Step 5**: Apply `Softmax` function\n",
    "    \n",
    "```python\n",
    "\n",
    "softmax = nn.Softmax(dim=1)\n",
    "predict_probab = softmax(logits)\n",
    "\n",
    "```\n"
   ]
  },
  {
   "cell_type": "markdown",
   "id": "e3d2f3c5",
   "metadata": {},
   "source": [
    "### 3. Training the Model \n",
    "Training with training data and evaluating loss on Validation Data"
   ]
  },
  {
   "cell_type": "markdown",
   "id": "7f7eb30e",
   "metadata": {},
   "source": [
    "#### 3A.Setting Hyperparameters"
   ]
  },
  {
   "cell_type": "markdown",
   "id": "eea5cbd5",
   "metadata": {},
   "source": [
    "- `num_of_epochs`: The number of times the entire training dataset is pass through the network\n",
    "- `batch_size`: The number of data samples seen by the model before updating its weights. (derived parameter `steps = total_training_data/batch_size` - the number of batches needed to complete an epoch)\n",
    "- `learning_rate`: How much to change the weights in the `w = w - learning_rate * gradient`. Smaller value means the model will take a longer time to find best weights. Larger value of learning_rate might make the NN miss the optimal weights because we might step over the best values\n",
    "- Choice of `loss_fn`\n",
    "Common Loss Functions:    \n",
    "    - nn.MSELoss # Mean Squared Error\n",
    "    - nn.NLLLoss #Negative Log Likelihood    \n",
    "    - nn.CrossEntropyLoss # = combine(`nn.LogSoftmax` and `nn.NLLLoss`)   \n",
    "\n",
    "- Choice of `optimizer`"
   ]
  },
  {
   "cell_type": "code",
   "execution_count": 30,
   "id": "4b4dc5fc",
   "metadata": {},
   "outputs": [],
   "source": [
    "num_of_epochs = 40\n",
    "batchsize = 4 # already mentioned in the DataLoader arguments\n",
    "learning_rate = 1e-3\n",
    "\n",
    "loss_fn = nn.CrossEntropyLoss()\n",
    "optimizer = torch.optim.SGD(model.parameters(),\n",
    "                            lr=learning_rate\n",
    "                           )\n",
    "# SGD optimizer in PyTorch actually is Mini-batch Gradient Descent with momentum\n",
    "# it updates one mini-batch at a time (batchsize)\n",
    "# Source: https://discuss.pytorch.org/t/how-sgd-works-in-pytorch/8060"
   ]
  },
  {
   "cell_type": "markdown",
   "id": "06ff1f01",
   "metadata": {},
   "source": [
    "#### 3B. Writing Core Training and Evaluation Loop Functions"
   ]
  },
  {
   "cell_type": "markdown",
   "id": "036f53c9",
   "metadata": {},
   "source": [
    "- `loss_fn` and `optimizer` are passed to `train_loop` and just `loss_fn` to `test_loop`\n",
    "```python\n",
    "for i in range(epochs):\n",
    "    print(f\"Epoch {i+1}\\n ----------------------------\")\n",
    "    train_loop(train_dataloader, validation_dataloader, model, loss_fn, optimizer)\n",
    "    test_loop(test_dataloader,model, loss_fn)\n",
    "print(\"Over!\")    \n",
    "```"
   ]
  },
  {
   "cell_type": "code",
   "execution_count": 33,
   "id": "d4a42cf1",
   "metadata": {},
   "outputs": [],
   "source": [
    "def train_loop(train_dataloader, validation_dataloader, model, loss_fn, optimizer, epoch):\n",
    "    train_size = len(train_dataloader.dataset)\n",
    "    validation_size = len(validation_dataloader.dataset)\n",
    "    training_loss_per_epoch = 0\n",
    "    validation_loss_per_epoch = 0\n",
    "    for batch_number, (X,y) in enumerate(train_dataloader):\n",
    "        X,y = X.to(device), y.to(device)\n",
    "        \n",
    "        # compute prediction error\n",
    "        pred = model(X)\n",
    "        loss = loss_fn(pred, y)\n",
    "        \n",
    "        # Backpropagation steps\n",
    "        # key optimizer steps\n",
    "        # by default, gradients add up in PyTorch\n",
    "        # we zero out in every iteration\n",
    "        optimizer.zero_grad() \n",
    "        # performs the gradient computation steps (across the DAG)\n",
    "        loss.backward()\n",
    "        # adjust the weights\n",
    "        optimizer.step()\n",
    "        training_loss_per_epoch += loss.item()\n",
    "        \n",
    "#         if batch_number % 100 == 0:\n",
    "#             print(f\"After completing {batch_number * len(X)} samples, the loss is:\")\n",
    "#             print(loss.item()) \n",
    "            \n",
    "    for batch_number, (X,y) in enumerate(validation_dataloader):\n",
    "        X,y = X.to(device), y.to(device)\n",
    "        \n",
    "        # compute prediction error\n",
    "        pred = model(X)\n",
    "        loss = loss_fn(pred, y)\n",
    "        \n",
    "        validation_loss_per_epoch += loss.item()\n",
    "    avg_training_loss = training_loss_per_epoch/train_size\n",
    "    avg_validation_loss = validation_loss_per_epoch/validation_size\n",
    "    print(f\"Average Training Loss of {epoch}: {avg_training_loss}\")\n",
    "    print(f\"Average Validation Loss of {epoch}: {avg_validation_loss}\")\n",
    "    writer.add_scalars('Training vs. Validation Loss',\n",
    "                       {'Training': avg_training_loss, \n",
    "                        'Validation': avg_validation_loss\n",
    "                       },\n",
    "                       epoch\n",
    "                      )"
   ]
  },
  {
   "cell_type": "code",
   "execution_count": 34,
   "id": "0f2a5d75",
   "metadata": {},
   "outputs": [],
   "source": [
    "def test_loop(test_dataloader,model, loss_fn, epoch):\n",
    "    test_size = len(test_dataloader.dataset)\n",
    "    # Failing to do eval can yield inconsistent inference results\n",
    "    model.eval()\n",
    "    test_loss_per_epoch, accuracy_per_epoch = 0, 0\n",
    "    # disabling gradient tracking while inference\n",
    "    with torch.no_grad():\n",
    "        for X,y in test_dataloader:\n",
    "            X, y = X.to(device), y.to(device)\n",
    "            pred = model(X)\n",
    "            loss = loss_fn(pred, y)\n",
    "            test_loss_per_epoch += loss.item()\n",
    "            accuracy_per_epoch += (pred.argmax(1)==y).type(torch.float).sum().item()\n",
    "    print(f\"Average Test Loss of {epoch}: {test_loss_per_epoch/test_size}\")\n",
    "    print(f\"Average Accuracy of {epoch}: {accuracy_per_epoch/test_size}\")"
   ]
  },
  {
   "cell_type": "markdown",
   "id": "359ed4c8",
   "metadata": {},
   "source": [
    "### 3C. Training the model now with all the above datasets, fns and hyperparameters\n"
   ]
  },
  {
   "cell_type": "code",
   "execution_count": 35,
   "id": "084a5ac9",
   "metadata": {},
   "outputs": [
    {
     "name": "stdout",
     "output_type": "stream",
     "text": [
      "Epoch Number: 0 \n",
      "---------------------\n",
      "Average Training Loss of 0: 0.37492141907910503\n",
      "Average Validation Loss of 0: 0.07822599628902972\n",
      "Average Test Loss of 0: 0.3941003955438733\n",
      "Average Accuracy of 0: 0.4513\n",
      "Epoch Number: 1 \n",
      "---------------------\n",
      "Average Training Loss of 1: 0.29412952572156986\n",
      "Average Validation Loss of 1: 0.06984573040464893\n",
      "Average Test Loss of 1: 0.3524202892445028\n",
      "Average Accuracy of 1: 0.5089\n",
      "Epoch Number: 2 \n",
      "---------------------\n",
      "Average Training Loss of 2: 0.26920984716021146\n",
      "Average Validation Loss of 2: 0.06124594401506086\n",
      "Average Test Loss of 2: 0.3105912162689492\n",
      "Average Accuracy of 2: 0.5619\n",
      "Epoch Number: 3 \n",
      "---------------------\n",
      "Average Training Loss of 3: 0.23298926146160034\n",
      "Average Validation Loss of 3: 0.05687851301284196\n",
      "Average Test Loss of 3: 0.289005788420327\n",
      "Average Accuracy of 3: 0.5703\n",
      "Epoch Number: 4 \n",
      "---------------------\n",
      "Average Training Loss of 4: 0.22383212667525512\n",
      "Average Validation Loss of 4: 0.055567725470933756\n",
      "Average Test Loss of 4: 0.281585181701649\n",
      "Average Accuracy of 4: 0.5756\n",
      "Epoch Number: 5 \n",
      "---------------------\n",
      "Average Training Loss of 5: 0.2192905047053122\n",
      "Average Validation Loss of 5: 0.05467132322791537\n",
      "Average Test Loss of 5: 0.2772756483490579\n",
      "Average Accuracy of 5: 0.5769\n",
      "Epoch Number: 6 \n",
      "---------------------\n",
      "Average Training Loss of 6: 0.21594063764017385\n",
      "Average Validation Loss of 6: 0.05440855597360059\n",
      "Average Test Loss of 6: 0.2756104659563396\n",
      "Average Accuracy of 6: 0.5797\n",
      "Epoch Number: 7 \n",
      "---------------------\n",
      "Average Training Loss of 7: 0.2131852781815299\n",
      "Average Validation Loss of 7: 0.053624112317959466\n",
      "Average Test Loss of 7: 0.2719105888887309\n",
      "Average Accuracy of 7: 0.5835\n",
      "Epoch Number: 8 \n",
      "---------------------\n",
      "Average Training Loss of 8: 0.21095289413684512\n",
      "Average Validation Loss of 8: 0.05342551502426989\n",
      "Average Test Loss of 8: 0.2713099636044353\n",
      "Average Accuracy of 8: 0.5842\n",
      "Epoch Number: 9 \n",
      "---------------------\n",
      "Average Training Loss of 9: 0.20891767154930688\n",
      "Average Validation Loss of 9: 0.05262600400242955\n",
      "Average Test Loss of 9: 0.26708974808561614\n",
      "Average Accuracy of 9: 0.5879\n",
      "Epoch Number: 10 \n",
      "---------------------\n",
      "Average Training Loss of 10: 0.20722575445612892\n",
      "Average Validation Loss of 10: 0.0525555985642209\n",
      "Average Test Loss of 10: 0.26769139299069067\n",
      "Average Accuracy of 10: 0.588\n",
      "Epoch Number: 11 \n",
      "---------------------\n",
      "Average Training Loss of 11: 0.20552503292359567\n",
      "Average Validation Loss of 11: 0.05210428566324214\n",
      "Average Test Loss of 11: 0.2649997265076963\n",
      "Average Accuracy of 11: 0.5895\n",
      "Epoch Number: 12 \n",
      "---------------------\n",
      "Average Training Loss of 12: 0.20408112293860564\n",
      "Average Validation Loss of 12: 0.051770467872500496\n",
      "Average Test Loss of 12: 0.2633824803750962\n",
      "Average Accuracy of 12: 0.5932\n",
      "Epoch Number: 13 \n",
      "---------------------\n",
      "Average Training Loss of 13: 0.20268390893964097\n",
      "Average Validation Loss of 13: 0.05188400198943758\n",
      "Average Test Loss of 13: 0.2644016409972217\n",
      "Average Accuracy of 13: 0.5922\n",
      "Epoch Number: 14 \n",
      "---------------------\n",
      "Average Training Loss of 14: 0.201520107355677\n",
      "Average Validation Loss of 14: 0.05125445341968055\n",
      "Average Test Loss of 14: 0.2611963851341279\n",
      "Average Accuracy of 14: 0.5955\n",
      "Epoch Number: 15 \n",
      "---------------------\n",
      "Average Training Loss of 15: 0.20028020650018782\n",
      "Average Validation Loss of 15: 0.05131079232526051\n",
      "Average Test Loss of 15: 0.2619800262348959\n",
      "Average Accuracy of 15: 0.5945\n",
      "Epoch Number: 16 \n",
      "---------------------\n",
      "Average Training Loss of 16: 0.19930289518757782\n",
      "Average Validation Loss of 16: 0.05102425828671549\n",
      "Average Test Loss of 16: 0.2594989241152536\n",
      "Average Accuracy of 16: 0.5982\n",
      "Epoch Number: 17 \n",
      "---------------------\n",
      "Average Training Loss of 17: 0.19813075490454793\n",
      "Average Validation Loss of 17: 0.051556678453843534\n",
      "Average Test Loss of 17: 0.26243701733639463\n",
      "Average Accuracy of 17: 0.593\n",
      "Epoch Number: 18 \n",
      "---------------------\n",
      "Average Training Loss of 18: 0.19705783875641647\n",
      "Average Validation Loss of 18: 0.05060538900109629\n",
      "Average Test Loss of 18: 0.2580509221542161\n",
      "Average Accuracy of 18: 0.5989\n",
      "Epoch Number: 19 \n",
      "---------------------\n",
      "Average Training Loss of 19: 0.19621837463563618\n",
      "Average Validation Loss of 19: 0.05035900694054338\n",
      "Average Test Loss of 19: 0.2570419951383956\n",
      "Average Accuracy of 19: 0.5994\n",
      "Epoch Number: 20 \n",
      "---------------------\n",
      "Average Training Loss of 20: 0.195289545186188\n",
      "Average Validation Loss of 20: 0.05023571021956741\n",
      "Average Test Loss of 20: 0.25561362456250936\n",
      "Average Accuracy of 20: 0.602\n",
      "Epoch Number: 21 \n",
      "---------------------\n",
      "Average Training Loss of 21: 0.19443586048820435\n",
      "Average Validation Loss of 21: 0.049991886787357116\n",
      "Average Test Loss of 21: 0.2543199068458518\n",
      "Average Accuracy of 21: 0.6029\n",
      "Epoch Number: 22 \n",
      "---------------------\n",
      "Average Training Loss of 22: 0.19364561447636808\n",
      "Average Validation Loss of 22: 0.049969164358599424\n",
      "Average Test Loss of 22: 0.25422012766097907\n",
      "Average Accuracy of 22: 0.6024\n",
      "Epoch Number: 23 \n",
      "---------------------\n",
      "Average Training Loss of 23: 0.1929157643662659\n",
      "Average Validation Loss of 23: 0.04997496859732491\n",
      "Average Test Loss of 23: 0.2537263603519532\n",
      "Average Accuracy of 23: 0.6028\n",
      "Epoch Number: 24 \n",
      "---------------------\n",
      "Average Training Loss of 24: 0.1921301985102754\n",
      "Average Validation Loss of 24: 0.050340830542108354\n",
      "Average Test Loss of 24: 0.25542087561746596\n",
      "Average Accuracy of 24: 0.6012\n",
      "Epoch Number: 25 \n",
      "---------------------\n",
      "Average Training Loss of 25: 0.19134904663386382\n",
      "Average Validation Loss of 25: 0.0496847293489632\n",
      "Average Test Loss of 25: 0.2526007088518469\n",
      "Average Accuracy of 25: 0.6043\n",
      "Epoch Number: 26 \n",
      "---------------------\n",
      "Average Training Loss of 26: 0.18850262060134118\n",
      "Average Validation Loss of 26: 0.04423966165143065\n",
      "Average Test Loss of 26: 0.22581290890774688\n",
      "Average Accuracy of 26: 0.6929\n",
      "Epoch Number: 27 \n",
      "---------------------\n",
      "Average Training Loss of 27: 0.15441993653350122\n",
      "Average Validation Loss of 27: 0.03893268850323899\n",
      "Average Test Loss of 27: 0.20143005184602808\n",
      "Average Accuracy of 27: 0.7014\n",
      "Epoch Number: 28 \n",
      "---------------------\n",
      "Average Training Loss of 28: 0.14789679993051177\n",
      "Average Validation Loss of 28: 0.03869125073454731\n",
      "Average Test Loss of 28: 0.19964377202069444\n",
      "Average Accuracy of 28: 0.7002\n",
      "Epoch Number: 29 \n",
      "---------------------\n",
      "Average Training Loss of 29: 0.14634136854270838\n",
      "Average Validation Loss of 29: 0.038603742944015536\n",
      "Average Test Loss of 29: 0.19903525946153677\n",
      "Average Accuracy of 29: 0.7039\n",
      "Epoch Number: 30 \n",
      "---------------------\n",
      "Average Training Loss of 30: 0.14531945421352435\n",
      "Average Validation Loss of 30: 0.03834664211889467\n",
      "Average Test Loss of 30: 0.1991396665970533\n",
      "Average Accuracy of 30: 0.6997\n",
      "Epoch Number: 31 \n",
      "---------------------\n",
      "Average Training Loss of 31: 0.14428788838359016\n",
      "Average Validation Loss of 31: 0.03804405532976379\n",
      "Average Test Loss of 31: 0.1973373115655857\n",
      "Average Accuracy of 31: 0.7014\n",
      "Epoch Number: 32 \n",
      "---------------------\n",
      "Average Training Loss of 32: 0.14343462629116244\n",
      "Average Validation Loss of 32: 0.03797397166893655\n",
      "Average Test Loss of 32: 0.19659985608985225\n",
      "Average Accuracy of 32: 0.7018\n",
      "Epoch Number: 33 \n",
      "---------------------\n",
      "Average Training Loss of 33: 0.1426488049615936\n",
      "Average Validation Loss of 33: 0.038758134802254186\n",
      "Average Test Loss of 33: 0.19876787824807834\n",
      "Average Accuracy of 33: 0.6991\n",
      "Epoch Number: 34 \n",
      "---------------------\n",
      "Average Training Loss of 34: 0.1420870144194217\n",
      "Average Validation Loss of 34: 0.0375598758663645\n",
      "Average Test Loss of 34: 0.19430328315563675\n",
      "Average Accuracy of 34: 0.706\n",
      "Epoch Number: 35 \n",
      "---------------------\n",
      "Average Training Loss of 35: 0.1410567218549781\n",
      "Average Validation Loss of 35: 0.03771247115219812\n",
      "Average Test Loss of 35: 0.1951848479602464\n",
      "Average Accuracy of 35: 0.7043\n",
      "Epoch Number: 36 \n",
      "---------------------\n",
      "Average Training Loss of 36: 0.1405174565114874\n",
      "Average Validation Loss of 36: 0.03830903317625373\n",
      "Average Test Loss of 36: 0.1975415874477936\n",
      "Average Accuracy of 36: 0.6996\n",
      "Epoch Number: 37 \n",
      "---------------------\n",
      "Average Training Loss of 37: 0.13975639427933614\n",
      "Average Validation Loss of 37: 0.037423237568447926\n",
      "Average Test Loss of 37: 0.19380079013922005\n",
      "Average Accuracy of 37: 0.7052\n",
      "Epoch Number: 38 \n",
      "---------------------\n",
      "Average Training Loss of 38: 0.13921849230745761\n",
      "Average Validation Loss of 38: 0.038412615390023046\n",
      "Average Test Loss of 38: 0.19745682889677718\n",
      "Average Accuracy of 38: 0.7015\n",
      "Epoch Number: 39 \n",
      "---------------------\n",
      "Average Training Loss of 39: 0.13862396091737622\n",
      "Average Validation Loss of 39: 0.03721317019570803\n",
      "Average Test Loss of 39: 0.1929354560287782\n",
      "Average Accuracy of 39: 0.7063\n",
      "CPU times: user 12min 2s, sys: 5.22 s, total: 12min 7s\n",
      "Wall time: 11min 39s\n"
     ]
    }
   ],
   "source": [
    "%%time\n",
    "for epoch in range(num_of_epochs):\n",
    "    print(f\"Epoch Number: {epoch} \\n---------------------\")\n",
    "    train_loop(train_dataloader, validation_dataloader, model, loss_fn, optimizer, epoch)\n",
    "    test_loop(test_dataloader,model, loss_fn, epoch)"
   ]
  },
  {
   "cell_type": "markdown",
   "id": "b0d206c1",
   "metadata": {},
   "source": [
    "Points to ponder: \n",
    "- The accuracy for this 2-layer NN stands at 71%. \n",
    "- The Hyperparameters - batch_size, learning_rate, choice of optimizer - can be varied to see how results change.\n",
    "- **Changing Architecture**: Deepening the number of hidden layers can help in improving the accuracy or changing the architecture to use CNN or any pre-trained NN like *LeNet-5* or others will improve further"
   ]
  },
  {
   "cell_type": "markdown",
   "id": "507ff040",
   "metadata": {},
   "source": [
    "### 3D. Saving the model"
   ]
  },
  {
   "cell_type": "code",
   "execution_count": 36,
   "id": "04a9016c",
   "metadata": {},
   "outputs": [
    {
     "name": "stdout",
     "output_type": "stream",
     "text": [
      "/bin/bash: warning: setlocale: LC_ALL: cannot change locale (en_US.utf-8)\r\n"
     ]
    }
   ],
   "source": [
    "!mkdir -p model_weights/"
   ]
  },
  {
   "cell_type": "code",
   "execution_count": 37,
   "id": "c7a7f2c9",
   "metadata": {},
   "outputs": [],
   "source": [
    "torch.save(model.state_dict(),\"model_weights/fmnist_2_layer_nn_model_batch_size_4.pth\")"
   ]
  },
  {
   "cell_type": "markdown",
   "id": "5f4e775e",
   "metadata": {},
   "source": [
    "### 4. Predict using the Trained Model\n",
    "Loading the trained model and predicting for unseen data"
   ]
  },
  {
   "cell_type": "code",
   "execution_count": 38,
   "id": "e1058551",
   "metadata": {},
   "outputs": [
    {
     "name": "stdout",
     "output_type": "stream",
     "text": [
      "Predicted: \"Ankle boot\", Actual: \"Ankle boot\"\n"
     ]
    }
   ],
   "source": [
    "# construct the model structure\n",
    "model = NeuralNetwork()\n",
    "# load the state_dict\n",
    "model.load_state_dict(torch.load(\"model_weights/fmnist_2_layer_nn_model_batch_size_4.pth\"))\n",
    "\n",
    "classes = [\n",
    "    \"T-shirt/top\",\n",
    "    \"Trouser\",\n",
    "    \"Pullover\",\n",
    "    \"Dress\",\n",
    "    \"Coat\",\n",
    "    \"Sandal\",\n",
    "    \"Shirt\",\n",
    "    \"Sneaker\",\n",
    "    \"Bag\",\n",
    "    \"Ankle boot\",\n",
    "]\n",
    "\n",
    "model.eval()\n",
    "x, y = test_data[0][0], test_data[0][1]\n",
    "with torch.no_grad():\n",
    "    pred = model(x)\n",
    "    predicted, actual = classes[pred[0].argmax(0)], classes[y]\n",
    "    print(f'Predicted: \"{predicted}\", Actual: \"{actual}\"')"
   ]
  },
  {
   "cell_type": "code",
   "execution_count": 39,
   "id": "e23094e9",
   "metadata": {},
   "outputs": [
    {
     "data": {
      "text/plain": [
       "tensor([0.0000, 0.0000, 0.0000, 0.0000, 0.0000, 1.4451, 0.0000, 0.0000, 0.0000,\n",
       "        5.6093])"
      ]
     },
     "execution_count": 39,
     "metadata": {},
     "output_type": "execute_result"
    }
   ],
   "source": [
    "# these are logit scores and not softmax outputs \n",
    "# yet they are enough for predicting the class \n",
    "# since the logits are finally coming out of a ReLU() unit\n",
    "# A ReLU outputs from (0,max)\n",
    "pred[0]"
   ]
  },
  {
   "cell_type": "markdown",
   "id": "d8d982df",
   "metadata": {},
   "source": [
    "## 5. Visualze the Trained Model Dataflow"
   ]
  },
  {
   "cell_type": "code",
   "execution_count": 42,
   "id": "799ffdae",
   "metadata": {},
   "outputs": [],
   "source": [
    "dataiter = iter(train_dataloader)\n",
    "images, labels = dataiter.next()\n",
    "\n",
    "# add_graph() will trace the sample input through your model\n",
    "writer.add_graph(model, images)\n",
    "writer.flush()"
   ]
  },
  {
   "cell_type": "markdown",
   "id": "9a1415bc",
   "metadata": {},
   "source": [
    "Sources: <br>\n",
    "- MSFT PyTorch Course | [link](https://docs.microsoft.com/en-us/learn/modules/intro-machine-learning-pytorch/8-quickstart)\n",
    "- PyTorch Official Tutorial Explaining with FashionMNIST data | [link](https://pytorch.org/tutorials/beginner/introyt/tensorboardyt_tutorial.html)\n",
    "- A useful Medium article on FashionMNIST dataset | [link](https://medium.com/@aaysbt/fashion-mnist-data-training-using-pytorch-7f6ad71e96f4)"
   ]
  },
  {
   "cell_type": "markdown",
   "id": "a42b4044",
   "metadata": {},
   "source": [
    "**Appendix** How to load the tensorboard"
   ]
  },
  {
   "cell_type": "code",
   "execution_count": 43,
   "id": "e7c9645d",
   "metadata": {},
   "outputs": [],
   "source": [
    "# Load the TensorBoard notebook extension\n",
    "%load_ext tensorboard"
   ]
  },
  {
   "cell_type": "code",
   "execution_count": 44,
   "id": "a9043b78",
   "metadata": {},
   "outputs": [
    {
     "data": {
      "text/html": [
       "\n",
       "      <iframe id=\"tensorboard-frame-d4dbc74c88e8b3ea\" width=\"100%\" height=\"800\" frameborder=\"0\">\n",
       "      </iframe>\n",
       "      <script>\n",
       "        (function() {\n",
       "          const frame = document.getElementById(\"tensorboard-frame-d4dbc74c88e8b3ea\");\n",
       "          const url = new URL(\"/\", window.location);\n",
       "          const port = 6006;\n",
       "          if (port) {\n",
       "            url.port = port;\n",
       "          }\n",
       "          frame.src = url;\n",
       "        })();\n",
       "      </script>\n",
       "    "
      ],
      "text/plain": [
       "<IPython.core.display.HTML object>"
      ]
     },
     "metadata": {},
     "output_type": "display_data"
    }
   ],
   "source": [
    "%tensorboard --logdir runs/fashion_mnist_2_layer_NN_experiment_1"
   ]
  }
 ],
 "metadata": {
  "kernelspec": {
   "display_name": "Python 3 (ipykernel)",
   "language": "python",
   "name": "python3"
  },
  "language_info": {
   "codemirror_mode": {
    "name": "ipython",
    "version": 3
   },
   "file_extension": ".py",
   "mimetype": "text/x-python",
   "name": "python",
   "nbconvert_exporter": "python",
   "pygments_lexer": "ipython3",
   "version": "3.7.10"
  }
 },
 "nbformat": 4,
 "nbformat_minor": 5
}
