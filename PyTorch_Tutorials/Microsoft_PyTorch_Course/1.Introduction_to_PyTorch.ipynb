{
 "cells": [
  {
   "cell_type": "markdown",
   "id": "8f459811",
   "metadata": {},
   "source": [
    "### Learnings from this notebook: <br>\n",
    "    - What are tensors? <br>\n",
    "    - tensor.to(device) OR tensor.cpu() <br>\n",
    "    - How to convert a 2D list into a tensor <br>\n",
    "    - tensor indexing (very similar to numpy indexing) <br>\n",
    "    - tensor and numpy conversions <br>"
   ]
  },
  {
   "cell_type": "markdown",
   "id": "2c535de4",
   "metadata": {},
   "source": [
    "### What are the list of torch classes/sub-packages seen in this notebook? <br>  \n",
    " - `torch.cuda.is_available()` gives a boolean output\n",
    " - `torch.tensor(x)` <br>\n",
    "  - x could be a 1D or 2D iterable (list or tuple) <br>\n",
    " - `torch.ones_like(tensor_variable)`, `torch.rand_like(tensor_variable)` <br>\n",
    " - `torch.ones(shape_in_a_tuple_or_list)` , `torch.zeros(shape_in_a_tuple_or_list)` and  `torch.rand(shape_in_a_tuple_or_list)` <br>\n",
    " - `torch_tensor_variable[start_index:end_index:step_value]` (similar to a numpy indexing)\n",
    " - numpy to torch tensor: `torch.from_numpy(np_array)`\n",
    " - torch_tensor to numpy: `torch_tensor_variable.numpy()`\n",
    " - Concatenate across rows `torch.cat((an_iterable_of_tensors),dim=0)`<br>\n",
    " - Concatenate across columns `torch.cat((an_iterable_of_tensors),dim=1)` <br>\n",
    " - tensor multiplication `tensor1 * tensor2 == torch.mul(tensor1,tensor2,out=tensor3) == tensor1.mul(tensor2)` <br>\n",
    " - convert single_element_tensor into a python datatype using `.item()` --> `single_element_tensor = tensor1.sum(); python_variable = single_element_tensor.item()` <br>\n",
    " - In-place Operations in torch using `_`: `x.add_(5)` will add 5 to each element of x <br>\n",
    " - tensor `n = t.numpy()` & np.add(n,2,out=n) --> A change in `n` will automatically change `t` (vice versa is true too)"
   ]
  },
  {
   "cell_type": "markdown",
   "id": "f6e20010",
   "metadata": {},
   "source": [
    "Source of the notebooks of this course: [Link](https://docs.microsoft.com/en-us/learn/paths/pytorch-fundamentals/)"
   ]
  },
  {
   "cell_type": "markdown",
   "id": "a0ac5c27",
   "metadata": {},
   "source": [
    "Source of this specific notebook: [Link](https://docs.microsoft.com/en-us/learn/modules/intro-machine-learning-pytorch/2-tensors?ns-enrollment-type=LearningPath&ns-enrollment-id=learn.pytorch.pytorch-fundamentals)"
   ]
  },
  {
   "cell_type": "code",
   "execution_count": 2,
   "id": "9c07965f",
   "metadata": {},
   "outputs": [],
   "source": [
    "%matplotlib inline"
   ]
  },
  {
   "cell_type": "code",
   "execution_count": 3,
   "id": "3bb1584f",
   "metadata": {},
   "outputs": [],
   "source": [
    "import torch\n",
    "import numpy as np"
   ]
  },
  {
   "cell_type": "code",
   "execution_count": 7,
   "id": "93b7b0a7",
   "metadata": {},
   "outputs": [
    {
     "data": {
      "text/plain": [
       "tensor([[[1., 1., 1.],\n",
       "         [1., 1., 1.]]])"
      ]
     },
     "execution_count": 7,
     "metadata": {},
     "output_type": "execute_result"
    }
   ],
   "source": [
    "torch.ones((1,2,3))"
   ]
  },
  {
   "cell_type": "code",
   "execution_count": 4,
   "id": "247f5fcd",
   "metadata": {},
   "outputs": [
    {
     "data": {
      "text/plain": [
       "True"
      ]
     },
     "execution_count": 4,
     "metadata": {},
     "output_type": "execute_result"
    }
   ],
   "source": [
    "torch.cuda.is_available()"
   ]
  },
  {
   "cell_type": "markdown",
   "id": "11f8343c",
   "metadata": {},
   "source": [
    "What are **Tensors**?\n",
    "- Tensors are `ndarrays` similar to numpy but optimzed to run in GPUs\n",
    "- Tensors are also optimized for `automatic differentiation`"
   ]
  },
  {
   "cell_type": "markdown",
   "id": "4e58e7ad",
   "metadata": {},
   "source": [
    "1. Tensors From Python lists"
   ]
  },
  {
   "cell_type": "code",
   "execution_count": 5,
   "id": "02183dec",
   "metadata": {},
   "outputs": [
    {
     "name": "stdout",
     "output_type": "stream",
     "text": [
      "<class 'list'>\n",
      "<class 'torch.Tensor'>\n"
     ]
    }
   ],
   "source": [
    "data = [[1,2], [3,4]]\n",
    "x_data = torch.tensor(data)\n",
    "print(type(data))\n",
    "print(type(x_data))"
   ]
  },
  {
   "cell_type": "markdown",
   "id": "5d532cd4",
   "metadata": {},
   "source": [
    "2. Tensors from Numpy Arrays"
   ]
  },
  {
   "cell_type": "code",
   "execution_count": 6,
   "id": "29bd19be",
   "metadata": {},
   "outputs": [
    {
     "name": "stdout",
     "output_type": "stream",
     "text": [
      "<class 'numpy.ndarray'>\n",
      "<class 'torch.Tensor'>\n"
     ]
    }
   ],
   "source": [
    "np_array = np.array(data)\n",
    "print(type(np_array))\n",
    "x_np = torch.from_numpy(np_array)\n",
    "print(type(x_np))"
   ]
  },
  {
   "cell_type": "markdown",
   "id": "36d45bf8",
   "metadata": {},
   "source": [
    "3. Tensors similar to another Tensor"
   ]
  },
  {
   "cell_type": "code",
   "execution_count": 6,
   "id": "4649834e",
   "metadata": {},
   "outputs": [
    {
     "name": "stdout",
     "output_type": "stream",
     "text": [
      "<class 'torch.Tensor'>\n",
      "tensor([[1, 1],\n",
      "        [1, 1]])\n"
     ]
    }
   ],
   "source": [
    "x_ones = torch.ones_like(x_data)\n",
    "print(type(x_ones))\n",
    "print(x_ones)"
   ]
  },
  {
   "cell_type": "code",
   "execution_count": 7,
   "id": "4f1d8fcb",
   "metadata": {},
   "outputs": [
    {
     "ename": "RuntimeError",
     "evalue": "\"check_uniform_bounds\" not implemented for 'Long'",
     "output_type": "error",
     "traceback": [
      "\u001b[0;31m---------------------------------------------------------------------------\u001b[0m",
      "\u001b[0;31mRuntimeError\u001b[0m                              Traceback (most recent call last)",
      "\u001b[0;32m/tmp/ipykernel_669/1513568752.py\u001b[0m in \u001b[0;36m<module>\u001b[0;34m\u001b[0m\n\u001b[0;32m----> 1\u001b[0;31m \u001b[0mx_rand\u001b[0m \u001b[0;34m=\u001b[0m \u001b[0mtorch\u001b[0m\u001b[0;34m.\u001b[0m\u001b[0mrand_like\u001b[0m\u001b[0;34m(\u001b[0m\u001b[0mx_data\u001b[0m\u001b[0;34m)\u001b[0m\u001b[0;34m\u001b[0m\u001b[0;34m\u001b[0m\u001b[0m\n\u001b[0m\u001b[1;32m      2\u001b[0m \u001b[0mprint\u001b[0m\u001b[0;34m(\u001b[0m\u001b[0mtype\u001b[0m\u001b[0;34m(\u001b[0m\u001b[0mx_rand\u001b[0m\u001b[0;34m)\u001b[0m\u001b[0;34m)\u001b[0m\u001b[0;34m\u001b[0m\u001b[0;34m\u001b[0m\u001b[0m\n\u001b[1;32m      3\u001b[0m \u001b[0mprint\u001b[0m\u001b[0;34m(\u001b[0m\u001b[0mx_rand\u001b[0m\u001b[0;34m)\u001b[0m\u001b[0;34m\u001b[0m\u001b[0;34m\u001b[0m\u001b[0m\n",
      "\u001b[0;31mRuntimeError\u001b[0m: \"check_uniform_bounds\" not implemented for 'Long'"
     ]
    }
   ],
   "source": [
    "# the below will throw an error as x_data dtype is Int (specifically, Long) \n",
    "# and random numbers canbot be generated in Int dtype\n",
    "x_rand = torch.rand_like(x_data)\n",
    "print(type(x_rand))\n",
    "print(x_rand)"
   ]
  },
  {
   "cell_type": "code",
   "execution_count": 8,
   "id": "f8861096",
   "metadata": {},
   "outputs": [
    {
     "name": "stdout",
     "output_type": "stream",
     "text": [
      "<class 'torch.Tensor'>\n",
      "tensor([[0.9470, 0.2274],\n",
      "        [0.5498, 0.2070]])\n"
     ]
    }
   ],
   "source": [
    "x_rand = torch.rand_like(x_data,dtype=torch.float)\n",
    "print(type(x_rand))\n",
    "print(x_rand)"
   ]
  },
  {
   "cell_type": "markdown",
   "id": "5004f4ba",
   "metadata": {},
   "source": [
    "Creating `Random` or `Constant` Tensors from a given **shape**"
   ]
  },
  {
   "cell_type": "code",
   "execution_count": 9,
   "id": "db511577",
   "metadata": {},
   "outputs": [
    {
     "name": "stdout",
     "output_type": "stream",
     "text": [
      "Ones:\n",
      "tensor([[1., 1., 1.],\n",
      "        [1., 1., 1.]])\n",
      "Zeros:\n",
      "tensor([[0., 0., 0.],\n",
      "        [0., 0., 0.]])\n",
      "Random:\n",
      "tensor([[0.1540, 0.0498, 0.0958],\n",
      "        [0.7644, 0.0327, 0.6922]])\n"
     ]
    }
   ],
   "source": [
    "shape = (2,3)\n",
    "x_ones = torch.ones(shape)\n",
    "x_zeros = torch.zeros(shape)\n",
    "x_rands = torch.rand(shape)\n",
    "\n",
    "print(f\"Ones:\\n{x_ones}\")\n",
    "print(f\"Zeros:\\n{x_zeros}\")\n",
    "print(f\"Random:\\n{x_rands}\")"
   ]
  },
  {
   "cell_type": "markdown",
   "id": "cf33ea76",
   "metadata": {},
   "source": [
    "**Attributes** of a Tensor"
   ]
  },
  {
   "cell_type": "code",
   "execution_count": 7,
   "id": "7512f307",
   "metadata": {},
   "outputs": [
    {
     "name": "stdout",
     "output_type": "stream",
     "text": [
      "Shape of Tensor:torch.Size([4, 5])\n",
      "Datatype of Tensor:torch.float32\n",
      "Device where the Tensor is stored:cpu\n"
     ]
    }
   ],
   "source": [
    "tensor = torch.rand(4,5) \n",
    "\n",
    "print(f\"Shape of Tensor:{tensor.shape}\") \n",
    "print(f\"Datatype of Tensor:{tensor.dtype}\")\n",
    "print(f\"Device where the Tensor is stored:{tensor.device}\")"
   ]
  },
  {
   "cell_type": "markdown",
   "id": "2e3677ab",
   "metadata": {},
   "source": [
    "Change the device to `cuda`"
   ]
  },
  {
   "cell_type": "code",
   "execution_count": 8,
   "id": "41aa9c6a",
   "metadata": {
    "scrolled": true
   },
   "outputs": [
    {
     "name": "stdout",
     "output_type": "stream",
     "text": [
      "Device where the Tensor is stored:cuda:0\n"
     ]
    }
   ],
   "source": [
    "if torch.cuda.is_available():\n",
    "    tensor = tensor.to('cuda')\n",
    "print(f\"Device where the Tensor is stored:{tensor.device}\")"
   ]
  },
  {
   "cell_type": "code",
   "execution_count": 11,
   "id": "5c5ca3aa",
   "metadata": {},
   "outputs": [
    {
     "data": {
      "text/plain": [
       "tensor([[0.7227, 0.0191, 0.9136, 0.3873, 0.6656],\n",
       "        [0.3693, 0.1062, 0.0766, 0.2567, 0.4990],\n",
       "        [0.3791, 0.2940, 0.8401, 0.5817, 0.4946],\n",
       "        [0.4029, 0.3215, 0.3802, 0.7170, 0.9948]], device='cuda:0')"
      ]
     },
     "execution_count": 11,
     "metadata": {},
     "output_type": "execute_result"
    }
   ],
   "source": [
    "tensor"
   ]
  },
  {
   "cell_type": "code",
   "execution_count": 10,
   "id": "ab5844d3",
   "metadata": {},
   "outputs": [
    {
     "data": {
      "text/plain": [
       "tensor([0.3693, 0.1062, 0.0766, 0.2567, 0.4990], device='cuda:0')"
      ]
     },
     "execution_count": 10,
     "metadata": {},
     "output_type": "execute_result"
    }
   ],
   "source": [
    "tensor[1,:]"
   ]
  },
  {
   "cell_type": "code",
   "execution_count": 12,
   "id": "fca44c43",
   "metadata": {},
   "outputs": [
    {
     "data": {
      "text/plain": [
       "tensor([0.3693, 0.1062, 0.0766, 0.2567, 0.4990])"
      ]
     },
     "execution_count": 12,
     "metadata": {},
     "output_type": "execute_result"
    }
   ],
   "source": [
    "tensor.cpu()[1,:]"
   ]
  },
  {
   "cell_type": "code",
   "execution_count": 15,
   "id": "37985817",
   "metadata": {},
   "outputs": [
    {
     "name": "stdout",
     "output_type": "stream",
     "text": [
      "/opt/conda/bin/python\r\n"
     ]
    }
   ],
   "source": [
    "!which python"
   ]
  },
  {
   "cell_type": "code",
   "execution_count": 13,
   "id": "e0f74bbb",
   "metadata": {
    "scrolled": true
   },
   "outputs": [
    {
     "data": {
      "text/plain": [
       "tensor([[0.4029, 0.3215, 0.3802, 0.7170, 0.9948]], device='cuda:0')"
      ]
     },
     "execution_count": 13,
     "metadata": {},
     "output_type": "execute_result"
    }
   ],
   "source": [
    "tensor[-1::]"
   ]
  },
  {
   "cell_type": "code",
   "execution_count": 18,
   "id": "3722cc7c",
   "metadata": {
    "scrolled": true
   },
   "outputs": [
    {
     "data": {
      "text/plain": [
       "tensor([], device='cuda:0', size=(0, 5))"
      ]
     },
     "execution_count": 18,
     "metadata": {},
     "output_type": "execute_result"
    }
   ],
   "source": [
    "tensor[-1::]"
   ]
  },
  {
   "cell_type": "code",
   "execution_count": 14,
   "id": "95ba1d4b",
   "metadata": {
    "scrolled": false
   },
   "outputs": [
    {
     "data": {
      "text/plain": [
       "tensor([[0.7227, 0.0191, 0.9136, 0.3873, 0.6656],\n",
       "        [0.3693, 0.1062, 0.0766, 0.2567, 0.4990],\n",
       "        [0.3791, 0.2940, 0.8401, 0.5817, 0.4946]], device='cuda:0')"
      ]
     },
     "execution_count": 14,
     "metadata": {},
     "output_type": "execute_result"
    }
   ],
   "source": [
    "tensor[:-1:]"
   ]
  },
  {
   "cell_type": "code",
   "execution_count": 15,
   "id": "f2dedf2d",
   "metadata": {
    "scrolled": true
   },
   "outputs": [
    {
     "data": {
      "text/plain": [
       "tensor([[0.7227, 0.0191, 0.9136, 0.3873, 0.6656],\n",
       "        [0.3791, 0.2940, 0.8401, 0.5817, 0.4946]], device='cuda:0')"
      ]
     },
     "execution_count": 15,
     "metadata": {},
     "output_type": "execute_result"
    }
   ],
   "source": [
    "tensor[:-1:2]"
   ]
  },
  {
   "cell_type": "markdown",
   "id": "82ad2d68",
   "metadata": {},
   "source": [
    "concatenating tensors"
   ]
  },
  {
   "cell_type": "code",
   "execution_count": 16,
   "id": "33672581",
   "metadata": {},
   "outputs": [
    {
     "name": "stdout",
     "output_type": "stream",
     "text": [
      "Help on built-in function cat:\n",
      "\n",
      "cat(...)\n",
      "    cat(tensors, dim=0, *, out=None) -> Tensor\n",
      "    \n",
      "    Concatenates the given sequence of :attr:`seq` tensors in the given dimension.\n",
      "    All tensors must either have the same shape (except in the concatenating\n",
      "    dimension) or be empty.\n",
      "    \n",
      "    :func:`torch.cat` can be seen as an inverse operation for :func:`torch.split`\n",
      "    and :func:`torch.chunk`.\n",
      "    \n",
      "    :func:`torch.cat` can be best understood via examples.\n",
      "    \n",
      "    Args:\n",
      "        tensors (sequence of Tensors): any python sequence of tensors of the same type.\n",
      "            Non-empty tensors provided must have the same shape, except in the\n",
      "            cat dimension.\n",
      "        dim (int, optional): the dimension over which the tensors are concatenated\n",
      "    \n",
      "    Keyword args:\n",
      "        out (Tensor, optional): the output tensor.\n",
      "    \n",
      "    Example::\n",
      "    \n",
      "        >>> x = torch.randn(2, 3)\n",
      "        >>> x\n",
      "        tensor([[ 0.6580, -1.0969, -0.4614],\n",
      "                [-0.1034, -0.5790,  0.1497]])\n",
      "        >>> torch.cat((x, x, x), 0)\n",
      "        tensor([[ 0.6580, -1.0969, -0.4614],\n",
      "                [-0.1034, -0.5790,  0.1497],\n",
      "                [ 0.6580, -1.0969, -0.4614],\n",
      "                [-0.1034, -0.5790,  0.1497],\n",
      "                [ 0.6580, -1.0969, -0.4614],\n",
      "                [-0.1034, -0.5790,  0.1497]])\n",
      "        >>> torch.cat((x, x, x), 1)\n",
      "        tensor([[ 0.6580, -1.0969, -0.4614,  0.6580, -1.0969, -0.4614,  0.6580,\n",
      "                 -1.0969, -0.4614],\n",
      "                [-0.1034, -0.5790,  0.1497, -0.1034, -0.5790,  0.1497, -0.1034,\n",
      "                 -0.5790,  0.1497]])\n",
      "\n"
     ]
    }
   ],
   "source": [
    "help(torch.cat)"
   ]
  },
  {
   "cell_type": "code",
   "execution_count": 35,
   "id": "80d4bdc5",
   "metadata": {},
   "outputs": [],
   "source": [
    "x = torch.randn(2, 3)\n",
    "concatenated_x_across_rows = torch.cat([x,x],dim=0)\n",
    "concatenated_x_across_columns = torch.cat([x,x],dim=1)\n",
    "assert concatenated_x_across_rows.shape == (4,3)\n",
    "assert concatenated_x_across_columns.shape == (2,6)"
   ]
  },
  {
   "cell_type": "code",
   "execution_count": 37,
   "id": "6359f802",
   "metadata": {},
   "outputs": [
    {
     "name": "stdout",
     "output_type": "stream",
     "text": [
      "tensor([[-0.8546,  1.1102, -0.2373],\n",
      "        [ 1.5505, -0.1730,  2.2415]])\n"
     ]
    }
   ],
   "source": [
    "print(x)"
   ]
  },
  {
   "cell_type": "code",
   "execution_count": 36,
   "id": "206a1d83",
   "metadata": {},
   "outputs": [
    {
     "name": "stdout",
     "output_type": "stream",
     "text": [
      "tensor([[-0.8546,  1.1102, -0.2373],\n",
      "        [ 1.5505, -0.1730,  2.2415],\n",
      "        [-0.8546,  1.1102, -0.2373],\n",
      "        [ 1.5505, -0.1730,  2.2415]])\n"
     ]
    }
   ],
   "source": [
    "print(concatenated_x_across_rows)"
   ]
  },
  {
   "cell_type": "markdown",
   "id": "6a82891b",
   "metadata": {},
   "source": [
    "Arithmetic Operations"
   ]
  },
  {
   "cell_type": "code",
   "execution_count": 38,
   "id": "813bc03c",
   "metadata": {},
   "outputs": [
    {
     "name": "stdout",
     "output_type": "stream",
     "text": [
      "torch.Size([2, 2])\n"
     ]
    }
   ],
   "source": [
    "# how to matrix multiplication\n",
    "y = x @ x.T\n",
    "print(y.shape)"
   ]
  },
  {
   "cell_type": "code",
   "execution_count": 39,
   "id": "b2ccc531",
   "metadata": {},
   "outputs": [
    {
     "ename": "RuntimeError",
     "evalue": "mat1 and mat2 shapes cannot be multiplied (2x3 and 2x3)",
     "output_type": "error",
     "traceback": [
      "\u001b[0;31m---------------------------------------------------------------------------\u001b[0m",
      "\u001b[0;31mRuntimeError\u001b[0m                              Traceback (most recent call last)",
      "\u001b[0;32m/tmp/ipykernel_669/3677089087.py\u001b[0m in \u001b[0;36m<module>\u001b[0;34m\u001b[0m\n\u001b[1;32m      1\u001b[0m \u001b[0;31m# how we cannot do matrix multiplication\u001b[0m\u001b[0;34m\u001b[0m\u001b[0;34m\u001b[0m\u001b[0;34m\u001b[0m\u001b[0m\n\u001b[0;32m----> 2\u001b[0;31m \u001b[0my\u001b[0m \u001b[0;34m=\u001b[0m \u001b[0mx\u001b[0m \u001b[0;34m@\u001b[0m \u001b[0mx\u001b[0m\u001b[0;34m\u001b[0m\u001b[0;34m\u001b[0m\u001b[0m\n\u001b[0m\u001b[1;32m      3\u001b[0m \u001b[0mprint\u001b[0m\u001b[0;34m(\u001b[0m\u001b[0my\u001b[0m\u001b[0;34m.\u001b[0m\u001b[0mshape\u001b[0m\u001b[0;34m)\u001b[0m\u001b[0;34m\u001b[0m\u001b[0;34m\u001b[0m\u001b[0m\n",
      "\u001b[0;31mRuntimeError\u001b[0m: mat1 and mat2 shapes cannot be multiplied (2x3 and 2x3)"
     ]
    }
   ],
   "source": [
    "# how we cannot do matrix multiplication\n",
    "y = x @ x\n",
    "print(y.shape)"
   ]
  },
  {
   "cell_type": "code",
   "execution_count": 49,
   "id": "b267f6e3",
   "metadata": {},
   "outputs": [],
   "source": [
    "# element-wise multiplication\n",
    "tensor1 = torch.rand(2,2)\n",
    "tensor2 = torch.ones(2,2)\n",
    "z1 = tensor1 * tensor2\n",
    "z2 = tensor1.mul(tensor2)"
   ]
  },
  {
   "cell_type": "code",
   "execution_count": 52,
   "id": "b78f302c",
   "metadata": {},
   "outputs": [
    {
     "data": {
      "text/plain": [
       "(tensor([[0.3411, 0.2054],\n",
       "         [0.7271, 0.8197]]),\n",
       " tensor([[1., 1.],\n",
       "         [1., 1.]]))"
      ]
     },
     "execution_count": 52,
     "metadata": {},
     "output_type": "execute_result"
    }
   ],
   "source": [
    "tensor1, tensor2"
   ]
  },
  {
   "cell_type": "code",
   "execution_count": 53,
   "id": "f37ebcba",
   "metadata": {},
   "outputs": [
    {
     "data": {
      "text/plain": [
       "tensor([[0.3411, 0.2054],\n",
       "        [0.7271, 0.8197]])"
      ]
     },
     "execution_count": 53,
     "metadata": {},
     "output_type": "execute_result"
    }
   ],
   "source": [
    "z1"
   ]
  },
  {
   "cell_type": "code",
   "execution_count": 54,
   "id": "307e022c",
   "metadata": {},
   "outputs": [
    {
     "data": {
      "text/plain": [
       "tensor([[0.3411, 0.2054],\n",
       "        [0.7271, 0.8197]])"
      ]
     },
     "execution_count": 54,
     "metadata": {},
     "output_type": "execute_result"
    }
   ],
   "source": [
    "z2"
   ]
  },
  {
   "cell_type": "code",
   "execution_count": 57,
   "id": "d74866d9",
   "metadata": {},
   "outputs": [],
   "source": [
    "# initialize a tensor with random values first\n",
    "# z3 = torch.rand(tensor.shape)\n",
    "z3 = torch.mul(tensor1, tensor2, out=z3)"
   ]
  },
  {
   "cell_type": "code",
   "execution_count": 58,
   "id": "7860e36f",
   "metadata": {},
   "outputs": [
    {
     "data": {
      "text/plain": [
       "tensor([[0.3411, 0.2054],\n",
       "        [0.7271, 0.8197]])"
      ]
     },
     "execution_count": 58,
     "metadata": {},
     "output_type": "execute_result"
    }
   ],
   "source": [
    "z3"
   ]
  },
  {
   "cell_type": "markdown",
   "id": "a3cd3c89",
   "metadata": {},
   "source": [
    "Single-element tensors"
   ]
  },
  {
   "cell_type": "markdown",
   "id": "5be31543",
   "metadata": {},
   "source": [
    "`item()` -- to convert single element tensors into python numerical values"
   ]
  },
  {
   "cell_type": "code",
   "execution_count": 59,
   "id": "8ecbe269",
   "metadata": {},
   "outputs": [
    {
     "name": "stdout",
     "output_type": "stream",
     "text": [
      "<class 'torch.Tensor'>\n",
      "torch.Size([])\n",
      "<class 'float'>\n"
     ]
    }
   ],
   "source": [
    "agg = tensor1.sum()\n",
    "print(type(agg))\n",
    "print(agg.shape)\n",
    "agg_item = agg.item()\n",
    "print(type(agg_item))"
   ]
  },
  {
   "cell_type": "code",
   "execution_count": 60,
   "id": "7715249d",
   "metadata": {},
   "outputs": [
    {
     "data": {
      "text/plain": [
       "tensor(2.0933)"
      ]
     },
     "execution_count": 60,
     "metadata": {},
     "output_type": "execute_result"
    }
   ],
   "source": [
    "agg"
   ]
  },
  {
   "cell_type": "code",
   "execution_count": 61,
   "id": "b90628d6",
   "metadata": {},
   "outputs": [
    {
     "data": {
      "text/plain": [
       "2.093311309814453"
      ]
     },
     "execution_count": 61,
     "metadata": {},
     "output_type": "execute_result"
    }
   ],
   "source": [
    "agg_item"
   ]
  },
  {
   "cell_type": "markdown",
   "id": "1103e728",
   "metadata": {},
   "source": [
    "In-place operations"
   ]
  },
  {
   "cell_type": "code",
   "execution_count": 62,
   "id": "770e9004",
   "metadata": {},
   "outputs": [
    {
     "name": "stdout",
     "output_type": "stream",
     "text": [
      "tensor([[0.8197, 0.8177],\n",
      "        [0.1233, 0.4900]]) \n",
      "\n"
     ]
    },
    {
     "data": {
      "text/plain": [
       "tensor([[5.8197, 5.8177],\n",
       "        [5.1233, 5.4900]])"
      ]
     },
     "execution_count": 62,
     "metadata": {},
     "output_type": "execute_result"
    }
   ],
   "source": [
    "print(tensor,\"\\n\")\n",
    "tensor.add_(5) # similar to pandas argument `inplace=True`"
   ]
  },
  {
   "cell_type": "code",
   "execution_count": 63,
   "id": "61588285",
   "metadata": {},
   "outputs": [
    {
     "name": "stdout",
     "output_type": "stream",
     "text": [
      "tensor([[5.8197, 5.8177],\n",
      "        [5.1233, 5.4900]])\n"
     ]
    }
   ],
   "source": [
    "print(tensor)"
   ]
  },
  {
   "cell_type": "markdown",
   "id": "2d724135",
   "metadata": {},
   "source": [
    "Numpy related Array"
   ]
  },
  {
   "cell_type": "code",
   "execution_count": 64,
   "id": "52cedb8b",
   "metadata": {},
   "outputs": [],
   "source": [
    "t = torch.ones(5)"
   ]
  },
  {
   "cell_type": "code",
   "execution_count": 65,
   "id": "4e1fb808",
   "metadata": {},
   "outputs": [],
   "source": [
    "n = t.numpy()"
   ]
  },
  {
   "cell_type": "code",
   "execution_count": 66,
   "id": "1c1a3aed",
   "metadata": {},
   "outputs": [
    {
     "name": "stdout",
     "output_type": "stream",
     "text": [
      "<class 'torch.Tensor'>\n",
      "<class 'numpy.ndarray'>\n"
     ]
    }
   ],
   "source": [
    "print(type(t))\n",
    "print(type(n))"
   ]
  },
  {
   "cell_type": "code",
   "execution_count": 67,
   "id": "6bcd2d2f",
   "metadata": {},
   "outputs": [
    {
     "name": "stdout",
     "output_type": "stream",
     "text": [
      "tensor([2., 2., 2., 2., 2.])\n",
      "[2. 2. 2. 2. 2.]\n"
     ]
    }
   ],
   "source": [
    "print(t.add_(1))\n",
    "print(n)"
   ]
  },
  {
   "cell_type": "markdown",
   "id": "a5a6a7f0",
   "metadata": {},
   "source": [
    "A change in `t` tensor reflects in `n` numpy"
   ]
  },
  {
   "cell_type": "markdown",
   "id": "56cbdc79",
   "metadata": {},
   "source": [
    "changes in numpy array reflects in tensor too"
   ]
  },
  {
   "cell_type": "code",
   "execution_count": 68,
   "id": "94d1b2bc",
   "metadata": {},
   "outputs": [
    {
     "name": "stdout",
     "output_type": "stream",
     "text": [
      "t: tensor([3., 3., 3., 3., 3.])\n",
      "n: [3. 3. 3. 3. 3.]\n"
     ]
    }
   ],
   "source": [
    "np.add(n, 1, out=n)\n",
    "print(f\"t: {t}\")\n",
    "print(f\"n: {n}\")"
   ]
  }
 ],
 "metadata": {
  "kernelspec": {
   "display_name": "Python 3 (ipykernel)",
   "language": "python",
   "name": "python3"
  },
  "language_info": {
   "codemirror_mode": {
    "name": "ipython",
    "version": 3
   },
   "file_extension": ".py",
   "mimetype": "text/x-python",
   "name": "python",
   "nbconvert_exporter": "python",
   "pygments_lexer": "ipython3",
   "version": "3.7.10"
  }
 },
 "nbformat": 4,
 "nbformat_minor": 5
}
